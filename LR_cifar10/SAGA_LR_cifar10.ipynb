{
 "cells": [
  {
   "cell_type": "code",
   "execution_count": 1,
   "metadata": {
    "collapsed": false
   },
   "outputs": [],
   "source": [
    "import numpy as np\n",
    "import torch as torch\n",
    "import torch.nn as nn\n",
    "import torch.nn.functional as F\n",
    "import matplotlib.pyplot as plt\n",
    "from saga import SAGA\n",
    "from torch.optim.optimizer import Optimizer\n",
    "from torch.optim.lr_scheduler import StepLR,LambdaLR\n",
    "from helpers import *\n",
    "import copy\n",
    "import time\n",
    "import pickle\n",
    "%matplotlib inline"
   ]
  },
  {
   "cell_type": "code",
   "execution_count": 2,
   "metadata": {
    "collapsed": true
   },
   "outputs": [],
   "source": [
    "device = torch.device(\"cuda:0\" if torch.cuda.is_available() else \"cpu\")"
   ]
  },
  {
   "cell_type": "code",
   "execution_count": 3,
   "metadata": {
    "collapsed": false
   },
   "outputs": [
    {
     "name": "stderr",
     "output_type": "stream",
     "text": [
      "C:\\Anaconda3\\envs\\tensor\\lib\\site-packages\\h5py\\__init__.py:34: FutureWarning: Conversion of the second argument of issubdtype from `float` to `np.floating` is deprecated. In future, it will be treated as `np.float64 == np.dtype(float).type`.\n",
      "  from ._conv import register_converters as _register_converters\n",
      "Using TensorFlow backend.\n"
     ]
    }
   ],
   "source": [
    "MOMENTUM_SAGA = 0.1\n",
    "MOMENTUM_SGD = 0.9\n",
    "betas = (0.9,0.999)\n",
    "N_SAMPLES = 0 #set to 0 to use all dataset\n",
    "n_channels = 1 # 1 to flatten cifar10\n",
    "weight_decay = 0.001\n",
    "data = \"cifar10\" #\"mnist\" or \"cifar10\"\n",
    "X,y,X_test,y_test,IN_DIM,OUT_DIM = get_data(data,n_channels,N_SAMPLES)\n",
    "model_str = \"LR\"\n",
    "optimal_loss = 1.6123 #best loss at 400k iteration of GD\n",
    "lr_SGD = 0.0005\n",
    "lr_CSAGA = 0.001\n",
    "lr_Adam = 0.00005\n",
    "lr_CSAGA_Adam = 0.000075\n",
    "n_epochs = 100*50000\n",
    "res_step = int(n_epochs/100)#compute loss,variance and error every step iteration\n",
    "res_step_var = int(n_epochs/1000)\n",
    "continue_training = False\n",
    "centered = \"uncentered\"\n",
    "if (centered == \"centered\"):\n",
    "    X = (X/127.5) - 1\n",
    "else:\n",
    "    X = X/255\n",
    "\n",
    "if (N_SAMPLES == 0):\n",
    "    N_SAMPLES = X.shape[0]"
   ]
  },
  {
   "cell_type": "code",
   "execution_count": 4,
   "metadata": {
    "collapsed": false
   },
   "outputs": [
    {
     "name": "stdout",
     "output_type": "stream",
     "text": [
      "0.4733623\n",
      "0.0\n",
      "1.0\n",
      "(50000, 3072)\n"
     ]
    }
   ],
   "source": [
    "print(X.mean())\n",
    "print(X.min())\n",
    "print(X.max())\n",
    "print(X.shape)"
   ]
  },
  {
   "cell_type": "code",
   "execution_count": 5,
   "metadata": {
    "collapsed": false
   },
   "outputs": [
    {
     "data": {
      "text/plain": [
       "0.0003315944593285957"
      ]
     },
     "execution_count": 5,
     "metadata": {},
     "output_type": "execute_result"
    }
   ],
   "source": [
    "L = (X**2).sum(axis = 1).max()\n",
    "1/L"
   ]
  },
  {
   "cell_type": "code",
   "execution_count": 6,
   "metadata": {
    "collapsed": false
   },
   "outputs": [
    {
     "name": "stdout",
     "output_type": "stream",
     "text": [
      "7.0    5000\n",
      "3.0    5000\n",
      "5.0    5000\n",
      "9.0    5000\n",
      "0.0    5000\n",
      "8.0    5000\n",
      "2.0    5000\n",
      "1.0    5000\n",
      "4.0    5000\n",
      "6.0    5000\n",
      "dtype: int64\n"
     ]
    }
   ],
   "source": [
    "import pandas as pd\n",
    "print(pd.Series(y).value_counts())"
   ]
  },
  {
   "cell_type": "code",
   "execution_count": 7,
   "metadata": {
    "collapsed": true
   },
   "outputs": [],
   "source": [
    "class_proba = get_class_proba(y)"
   ]
  },
  {
   "cell_type": "code",
   "execution_count": 8,
   "metadata": {
    "collapsed": false
   },
   "outputs": [
    {
     "data": {
      "text/plain": [
       "array([0.1, 0.1, 0.1, 0.1, 0.1, 0.1, 0.1, 0.1, 0.1, 0.1])"
      ]
     },
     "execution_count": 8,
     "metadata": {},
     "output_type": "execute_result"
    }
   ],
   "source": [
    "class_proba"
   ]
  },
  {
   "cell_type": "code",
   "execution_count": 9,
   "metadata": {
    "collapsed": true
   },
   "outputs": [],
   "source": [
    "class LR(nn.Module):\n",
    "    def __init__(self,IN_DIM,OUT_DIM):\n",
    "        super(LR, self).__init__()\n",
    "        self.linear = torch.nn.Linear(IN_DIM, OUT_DIM)\n",
    "        \n",
    "    def forward(self, x):\n",
    "        return self.linear(x)"
   ]
  },
  {
   "cell_type": "code",
   "execution_count": 10,
   "metadata": {
    "collapsed": false
   },
   "outputs": [],
   "source": [
    "class NN(nn.Module):\n",
    "    def __init__(self,in_dim,out_dim):\n",
    "        super(NN, self).__init__()\n",
    "        self.mlp = nn.Sequential(\n",
    "        nn.Linear(in_dim,100),\n",
    "        nn.ReLU(),\n",
    "        nn.Linear(100,out_dim)\n",
    "        )\n",
    "    \n",
    "    def forward(self,x):\n",
    "        return self.mlp(x)"
   ]
  },
  {
   "cell_type": "code",
   "execution_count": 11,
   "metadata": {
    "collapsed": true
   },
   "outputs": [],
   "source": [
    "def init_params(model):\n",
    "    for param in model.parameters():\n",
    "        param.data.fill_(0)\n",
    "    return model"
   ]
  },
  {
   "cell_type": "code",
   "execution_count": 12,
   "metadata": {
    "collapsed": false
   },
   "outputs": [],
   "source": [
    "if (model_str == 'LR'):\n",
    "    model = LR\n",
    "else:\n",
    "    model = NN\n",
    "    \n",
    "criterion = nn.CrossEntropyLoss()\n",
    "lr_lambda = lambda epoch : 1/np.sqrt(epoch+1)\n",
    "\n",
    "#if we want to continue training from a saved model, doesn't work though quite yet\n",
    "if continue_training:\n",
    "    #load values\n",
    "    model_SGD_loss = np.load('{}_{}_SGD_loss.npy'.format(model_str,data)).tolist()\n",
    "    model_CSAGA_loss = np.load('{}_{}_CSAGA_loss.npy'.format(model_str,data)).tolist()\n",
    "    model_SGD_true_loss = np.load('{}_{}_SGD_true_loss.npy'.format(model_str,data)).tolist()\n",
    "    model_CSAGA_true_loss = np.load('{}_{}_CSAGA_true_loss.npy'.format(model_str,data)).tolist()\n",
    "    SGD_avg_var = np.load('{}_{}_SGD_avg_var.npy'.format(model_str,data)).tolist()\n",
    "    CSAGA_avg_var = np.load('{}_{}_CSAGA_avg_var.npy'.format(model_str,data)).tolist()\n",
    "    SGD_var = np.asscalar(np.load('{}_{}_SGD_var.npy'.format(model_str,data)))\n",
    "    CSAGA_var = np.asscalar(np.load('{}_{}_CSAGA_var.npy'.format(model_str,data)))\n",
    "    model_SGD_test_e = np.load('{}_{}_SGD_test_err.npy'.format(model_str,data)).tolist()\n",
    "    model_CSAGA_test_e = np.load('{}_{}_CSAGA_test_err.npy'.format(model_str,data)).tolist()\n",
    "    \n",
    "    model_Adam_loss = np.load('{}_{}_Adam_loss.npy'.format(model_str,data)).tolist()\n",
    "    model_CSAGA_Adam_loss = np.load('{}_{}_CSAGA_Adam_loss.npy'.format(model_str,data)).tolist()\n",
    "    model_Adam_true_loss = np.load('{}_{}_Adam_true_loss.npy'.format(model_str,data)).tolist()\n",
    "    model_CSAGA_Adam_true_loss = np.load('{}_{}_CSAGA_Adam_true_loss.npy'.format(model_str,data)).tolist()\n",
    "    Adam_avg_var = np.load('{}_{}_Adam_avg_var.npy'.format(model_str,data)).tolist()\n",
    "    CSAGA_Adam_avg_var = np.load('{}_{}_CSAGA_Adam_avg_var.npy'.format(model_str,data)).tolist()\n",
    "    AdamSGD_var = np.asscalar(np.load('{}_{}_Adam_var.npy'.format(model_str,data)))\n",
    "    CSAGA_Adam_var = np.asscalar(np.load('{}_{}_CSAGA_Adam_var.npy'.format(model_str,data)))\n",
    "    model_Adam_test_e = np.load('{}_{}_Adam_test_err.npy'.format(model_str,data)).tolist()\n",
    "    model_CSAGA_Adam_test_e = np.load('{}_{}_CSAGA_Adam_test_err.npy'.format(model_str,data)).tolist()\n",
    "\n",
    "    #load models\n",
    "    model_SGD = model(IN_DIM,OUT_DIM)\n",
    "    model_SGD.load_state_dict(torch.load('{}_{}_model_SGD.pth'.format(model_str,data)))\n",
    "    model_SGD.to(device)\n",
    "    model_CSAGA = model(IN_DIM,OUT_DIM)\n",
    "    model_CSAGA.load_state_dict(torch.load('{}_{}_model_CSAGA.pth'.format(model_str,data)))\n",
    "    model_CSAGA.to(device)\n",
    "    \n",
    "    model_Adam = model(IN_DIM,OUT_DIM)\n",
    "    model_Adam.load_state_dict(torch.load('{}_{}_model_Adam.pth'.format(model_str,data)))\n",
    "    model_Adam.to(device)\n",
    "    model_CSAGA_Adam = model(IN_DIM,OUT_DIM)\n",
    "    model_CSAGA_Adam.load_state_dict(torch.load('{}_{}_model_CSAGA_Adam.pth'.format(model_str,data)))\n",
    "    model_CSAGA_Adam.to(device)\n",
    "\n",
    "    #load optimizers\n",
    "    optimizer_SGD = torch.optim.SGD(model_SGD.parameters(),lr = lr,weight_decay = weight_decay)\n",
    "    optimizer_SGD.load_state_dict(torch.load('{}_{}_opt_SGD.pth'.format(model_str,data)))\n",
    "    with open('LR_cifar10_opt_CSAGA.pkl', 'rb') as obj:  \n",
    "        optimizer_CSAGA = pickle.load(obj)\n",
    "        \n",
    "    optimizer_Adam = torch.optim.Adam(model_Adam.parameters(),lr = lr,weight_decay = weight_decay)\n",
    "    optimizer_Adam.load_state_dict(torch.load('{}_{}_opt_Adam.pth'.format(model_str,data)))\n",
    "    with open('LR_cifar10_opt_CSAGA_Adam.pkl', 'rb') as obj:  \n",
    "        optimizer_CSAGA_Adam = pickle.load(obj)\n",
    "\n",
    "    #load schedulers\n",
    "    scheduler_SGD = LambdaLR(optimizer_SGD,lr_lambda = lr_lambda)\n",
    "    scheduler_SGD.load_state_dict(torch.load('{}_{}_sched_SGD.pth'.format(model_str,data)))\n",
    "    \n",
    "    scheduler_CSAGA = LambdaLR(optimizer_CSAGA,lr_lambda = lr_lambda)\n",
    "    scheduler_CSAGA.load_state_dict(torch.load('{}_{}_sched_CSAGA.pth'.format(model_str,data)))\n",
    "    \n",
    "    scheduler_Adam = LambdaLR(optimizer_Adam,lr_lambda = lr_lambda)\n",
    "    scheduler_Adam.load_state_dict(torch.load('{}_{}_sched_Adam.pth'.format(model_str,data)))\n",
    "    \n",
    "    scheduler_CSAGA_Adam = LambdaLR(optimizer_CSAGA_Adam,lr_lambda = lr_lambda)\n",
    "    scheduler_CSAGA_Adam.load_state_dict(torch.load('{}_{}_sched_CSAGA_Adam.pth'.format(model_str,data)))\n",
    "        \n",
    "else:\n",
    "    model_SGD = model(IN_DIM,OUT_DIM).to(device)\n",
    "    model_SGD_average_w = init_params(model(IN_DIM,OUT_DIM)).to(device)\n",
    "    model_CSAGA = model(IN_DIM,OUT_DIM).to(device)\n",
    "    model_CSAGA_average_w = init_params(model(IN_DIM,OUT_DIM)).to(device)\n",
    "    model_Adam = model(IN_DIM,OUT_DIM).to(device)\n",
    "    model_Adam_average_w = init_params(model(IN_DIM,OUT_DIM)).to(device)\n",
    "    model_CSAGA_Adam = model(IN_DIM,OUT_DIM).to(device)\n",
    "    model_CSAGA_Adam_average_w = init_params(model(IN_DIM,OUT_DIM)).to(device)\n",
    "                                                                         \n",
    "    model_SGD_loss = []\n",
    "    model_CSAGA_loss = []\n",
    "    model_SGD_true_loss = []\n",
    "    model_CSAGA_true_loss = []\n",
    "    model_SGD_test_e = []\n",
    "    model_CSAGA_test_e = []\n",
    "    model_Adam_loss = []\n",
    "    model_CSAGA_Adam_loss = []\n",
    "    model_Adam_true_loss = []\n",
    "    model_CSAGA_Adam_true_loss = []\n",
    "    model_Adam_test_e = []\n",
    "    model_CSAGA_Adam_test_e = []\n",
    "    \n",
    "    SGD_avg_var = []\n",
    "    SGD_var = 0\n",
    "    CSAGA_avg_var = []\n",
    "    CSAGA_var = 0   \n",
    "    Adam_avg_var = []\n",
    "    Adam_var = 0\n",
    "    CSAGA_Adam_avg_var = []\n",
    "    CSAGA_Adam_var = 0\n",
    "\n",
    "    optimizer_SGD = torch.optim.SGD(model_SGD.parameters(), lr = lr_SGD,weight_decay = weight_decay)\n",
    "    optimizer_CSAGA = SAGA(model_CSAGA.parameters(),\n",
    "                                  n_classes=OUT_DIM, lr = lr_CSAGA,\n",
    "                                  class_proba = class_proba,momentum=MOMENTUM_SAGA,compute_var = True,\n",
    "                                weight_decay = weight_decay)\n",
    "    optimizer_Adam = torch.optim.Adam(model_Adam.parameters(), lr = lr_Adam,betas = betas,weight_decay = weight_decay)\n",
    "    optimizer_CSAGA_Adam = SAGA(model_CSAGA_Adam.parameters(),\n",
    "                                   n_classes=OUT_DIM, lr = lr_CSAGA_Adam,\n",
    "                              class_proba = class_proba,momentum=MOMENTUM_SAGA,compute_var = True, betas = betas,\n",
    "                                 use_adam = True,weight_decay = weight_decay)  \n",
    "\n",
    "    scheduler_SGD = LambdaLR(optimizer_SGD, lr_lambda = lr_lambda)\n",
    "    scheduler_CSAGA = LambdaLR(optimizer_CSAGA, lr_lambda = lr_lambda)\n",
    "    scheduler_Adam = LambdaLR(optimizer_Adam , lr_lambda = lr_lambda)\n",
    "    scheduler_CSAGA_Adam = LambdaLR(optimizer_CSAGA_Adam, lr_lambda = lr_lambda)"
   ]
  },
  {
   "cell_type": "code",
   "execution_count": 13,
   "metadata": {
    "collapsed": true
   },
   "outputs": [],
   "source": [
    "def update_weight_average(model,model_average_params,iteration):\n",
    "    for (model_w,average_w) in zip(list(model.parameters()),list(model_average_params.parameters())):\n",
    "        average_w.data = average_w.data + iteration*(model_w.data)"
   ]
  },
  {
   "cell_type": "code",
   "execution_count": 14,
   "metadata": {
    "collapsed": true
   },
   "outputs": [],
   "source": [
    "def loss_from_average(model_average_params,iteration,inputs,labels,criterion):\n",
    "    model_copy = copy.deepcopy(model_average_params)\n",
    "    for w in list(model_copy.parameters()):\n",
    "            w.data = 2*w.data/(iteration*(iteration+1))\n",
    "    outputs = model_copy.forward(inputs)\n",
    "    loss = criterion(outputs, labels) \n",
    "    return loss"
   ]
  },
  {
   "cell_type": "code",
   "execution_count": 15,
   "metadata": {
    "collapsed": true
   },
   "outputs": [],
   "source": [
    "def compute_error(model,X,y):\n",
    "    pred = model.forward(torch.Tensor(X_test).to(device))\n",
    "    pred = (torch.max(pred.data,1)[1]).cpu().numpy()\n",
    "    e = (y != pred).sum()\n",
    "    return e/X.shape[0]"
   ]
  },
  {
   "cell_type": "code",
   "execution_count": 16,
   "metadata": {
    "collapsed": false
   },
   "outputs": [
    {
     "data": {
      "text/plain": [
       "0.9035"
      ]
     },
     "execution_count": 16,
     "metadata": {},
     "output_type": "execute_result"
    }
   ],
   "source": [
    "compute_error(model_SGD,X_test,y_test)"
   ]
  },
  {
   "cell_type": "code",
   "execution_count": 17,
   "metadata": {
    "collapsed": false
   },
   "outputs": [
    {
     "name": "stdout",
     "output_type": "stream",
     "text": [
      "lr: 0.0005\n",
      "lr: 0.0005\n",
      "lr: 0.00035355339059327376\n",
      "lr: 0.00028867513459481295\n",
      "lr: 0.00025\n",
      "lr: 0.00022360679774997898\n",
      "lr: 0.00020412414523193154\n",
      "lr: 0.0001889822365046136\n",
      "lr: 0.00017677669529663688\n",
      "lr: 0.00016666666666666666\n",
      "lr: 0.00015811388300841897\n",
      "lr: 0.00015075567228888182\n",
      "lr: 0.00014433756729740648\n",
      "lr: 0.0001386750490563073\n",
      "lr: 0.0001336306209562122\n",
      "lr: 0.00012909944487358055\n",
      "lr: 0.000125\n",
      "lr: 0.00012126781251816648\n",
      "lr: 0.00011785113019775794\n",
      "lr: 0.00011470786693528087\n",
      "lr: 0.00011180339887498949\n",
      "lr: 0.0001091089451179962\n",
      "lr: 0.00010660035817780521\n",
      "lr: 0.00010425720702853738\n",
      "lr: 0.00010206207261596577\n",
      "lr: 0.0001\n",
      "lr: 9.805806756909202e-05\n",
      "lr: 9.622504486493763e-05\n",
      "lr: 9.44911182523068e-05\n",
      "lr: 9.284766908852593e-05\n",
      "lr: 9.128709291752768e-05\n",
      "lr: 8.980265101338746e-05\n",
      "lr: 8.838834764831844e-05\n",
      "lr: 8.703882797784892e-05\n",
      "lr: 8.574929257125441e-05\n",
      "lr: 8.451542547285165e-05\n",
      "lr: 8.333333333333333e-05\n",
      "lr: 8.219949365267865e-05\n",
      "lr: 8.111071056538128e-05\n",
      "lr: 8.006407690254356e-05\n",
      "lr: 7.905694150420948e-05\n",
      "lr: 7.808688094430303e-05\n",
      "lr: 7.715167498104596e-05\n",
      "lr: 7.624928516630234e-05\n",
      "lr: 7.537783614444091e-05\n",
      "lr: 7.453559924999299e-05\n",
      "lr: 7.372097807744857e-05\n",
      "lr: 7.293249574894728e-05\n",
      "lr: 7.216878364870324e-05\n",
      "lr: 7.142857142857142e-05\n",
      "lr: 7.071067811865475e-05\n",
      "lr: 7.001400420140048e-05\n",
      "lr: 6.933752452815365e-05\n",
      "lr: 6.868028197434452e-05\n",
      "lr: 6.804138174397718e-05\n",
      "lr: 6.741998624632422e-05\n",
      "lr: 6.68153104781061e-05\n",
      "lr: 6.622661785325219e-05\n",
      "lr: 6.565321642986127e-05\n",
      "lr: 6.509445549041195e-05\n",
      "lr: 6.454972243679028e-05\n",
      "lr: 6.4018439966448e-05\n",
      "lr: 6.350006350009525e-05\n",
      "lr: 6.29940788348712e-05\n",
      "lr: 6.25e-05\n",
      "lr: 6.201736729460424e-05\n",
      "lr: 6.154574548966636e-05\n",
      "lr: 6.108472217815262e-05\n",
      "lr: 6.063390625908324e-05\n",
      "lr: 6.01929265428846e-05\n",
      "lr: 5.976143046671968e-05\n",
      "lr: 5.9339082909692663e-05\n",
      "lr: 5.892556509887897e-05\n",
      "lr: 5.852057359806529e-05\n",
      "lr: 5.812381937190964e-05\n",
      "lr: 5.773502691896257e-05\n",
      "lr: 5.7353933467640436e-05\n",
      "lr: 5.698028822981897e-05\n",
      "lr: 5.661385170722978e-05\n",
      "lr: 5.62543950463012e-05\n",
      "lr: 5.5901699437494744e-05\n",
      "lr: 5.555555555555555e-05\n",
      "lr: 5.521576303742327e-05\n",
      "lr: 5.488212999484518e-05\n",
      "lr: 5.45544725589981e-05\n",
      "lr: 5.423261445466404e-05\n",
      "lr: 5.391638660171921e-05\n",
      "lr: 5.360562674188974e-05\n",
      "lr: 5.3300179088902604e-05\n",
      "lr: 5.2999894000318e-05\n",
      "lr: 5.270462766947299e-05\n",
      "lr: 5.241424183609592e-05\n",
      "lr: 5.212860351426869e-05\n",
      "lr: 5.184758473652126e-05\n",
      "lr: 5.157106231293967e-05\n",
      "lr: 5.129891760425771e-05\n",
      "lr: 5.1031036307982886e-05\n",
      "lr: 5.076730825668096e-05\n",
      "lr: 5.050762722761054e-05\n",
      "SGD Elapsed time: 7387.02s\n"
     ]
    }
   ],
   "source": [
    "#train SGD\n",
    "tstart = time.process_time()\n",
    "for epoch in range(n_epochs):\n",
    "    idx = np.random.randint(X.shape[0])\n",
    "    inputs = torch.from_numpy(X)[idx].to(device)\n",
    "    labels = torch.tensor(y, dtype=torch.long)[idx].view(1).to(device)\n",
    "    outputs = model_SGD.forward(inputs).view(1,-1)\n",
    "    loss = criterion(outputs, labels)\n",
    "    loss.backward()\n",
    "    optimizer_SGD.step()\n",
    "    #variance\n",
    "    if ((epoch % res_step_var) == 0):\n",
    "        for param_group in list(model_SGD.parameters()):\n",
    "            SGD_var += (param_group.grad.data**2).sum()\n",
    "        SGD_avg_var.append(SGD_var/(epoch/res_step_var+1))\n",
    "    #losses\n",
    "    if ((epoch % res_step) == 0):\n",
    "        inputs = torch.from_numpy(X).to(device)\n",
    "        labels = torch.tensor(y, dtype=torch.long).to(device)\n",
    "        #true loss\n",
    "        outputs = model_SGD.forward(inputs)\n",
    "        loss = criterion(outputs, labels)\n",
    "        model_SGD_true_loss.append(loss.data.item())\n",
    "        #average loss\n",
    "        update_weight_average(model_SGD,model_SGD_average_w, iteration = (epoch/res_step+1))\n",
    "        loss = loss_from_average(model_SGD_average_w,(epoch/res_step+1),inputs,labels,criterion)\n",
    "        model_SGD_loss.append(loss.data.item())\n",
    "    optimizer_SGD.zero_grad()\n",
    "    #error\n",
    "    if ((epoch % res_step) == 0):\n",
    "#         model_SGD_test_e.append(compute_error(model_SGD,X_test,y_test))\n",
    "        model_SGD_test_e.append(compute_error(model_SGD_average_w,X_test,y_test))\n",
    "    if (epoch != 0 and (epoch % N_SAMPLES) == 0):\n",
    "        for param_group in optimizer_SGD.param_groups:\n",
    "            print(\"lr:\",param_group['lr'])\n",
    "        scheduler_SGD.step()\n",
    "print('SGD Elapsed time: {:.2f}s'.format(time.process_time() - tstart))\n",
    "np.save('{}_{}_SGD_loss.npy'.format(model_str,data),np.asarray(model_SGD_loss))\n",
    "np.save('{}_{}_SGD_true_loss.npy'.format(model_str,data),np.asarray(model_SGD_true_loss))\n",
    "np.save('{}_{}_SGD_avg_var.npy'.format(model_str,data),np.asarray(SGD_avg_var))\n",
    "np.save('{}_{}_SGD_test_err.npy'.format(model_str,data),np.asarray(model_SGD_test_e))"
   ]
  },
  {
   "cell_type": "code",
   "execution_count": 18,
   "metadata": {
    "collapsed": false
   },
   "outputs": [
    {
     "name": "stdout",
     "output_type": "stream",
     "text": [
      "lr: 0.001\n",
      "lr: 0.001\n",
      "lr: 0.0007071067811865475\n",
      "lr: 0.0005773502691896259\n",
      "lr: 0.0005\n",
      "lr: 0.00044721359549995795\n",
      "lr: 0.0004082482904638631\n",
      "lr: 0.0003779644730092272\n",
      "lr: 0.00035355339059327376\n",
      "lr: 0.0003333333333333333\n",
      "lr: 0.00031622776601683794\n",
      "lr: 0.00030151134457776364\n",
      "lr: 0.00028867513459481295\n",
      "lr: 0.0002773500981126146\n",
      "lr: 0.0002672612419124244\n",
      "lr: 0.0002581988897471611\n",
      "lr: 0.00025\n",
      "lr: 0.00024253562503633296\n",
      "lr: 0.00023570226039551587\n",
      "lr: 0.00022941573387056174\n",
      "lr: 0.00022360679774997898\n",
      "lr: 0.0002182178902359924\n",
      "lr: 0.00021320071635561042\n",
      "lr: 0.00020851441405707476\n",
      "lr: 0.00020412414523193154\n",
      "lr: 0.0002\n",
      "lr: 0.00019611613513818404\n",
      "lr: 0.00019245008972987527\n",
      "lr: 0.0001889822365046136\n",
      "lr: 0.00018569533817705186\n",
      "lr: 0.00018257418583505537\n",
      "lr: 0.00017960530202677493\n",
      "lr: 0.00017677669529663688\n",
      "lr: 0.00017407765595569785\n",
      "lr: 0.00017149858514250882\n",
      "lr: 0.0001690308509457033\n",
      "lr: 0.00016666666666666666\n",
      "lr: 0.0001643989873053573\n",
      "lr: 0.00016222142113076255\n",
      "lr: 0.00016012815380508712\n",
      "lr: 0.00015811388300841897\n",
      "lr: 0.00015617376188860606\n",
      "lr: 0.00015430334996209192\n",
      "lr: 0.00015249857033260467\n",
      "lr: 0.00015075567228888182\n",
      "lr: 0.00014907119849998598\n",
      "lr: 0.00014744195615489715\n",
      "lr: 0.00014586499149789455\n",
      "lr: 0.00014433756729740648\n",
      "lr: 0.00014285714285714284\n",
      "lr: 0.0001414213562373095\n",
      "lr: 0.00014002800840280097\n",
      "lr: 0.0001386750490563073\n",
      "lr: 0.00013736056394868904\n",
      "lr: 0.00013608276348795435\n",
      "lr: 0.00013483997249264844\n",
      "lr: 0.0001336306209562122\n",
      "lr: 0.00013245323570650438\n",
      "lr: 0.00013130643285972255\n",
      "lr: 0.0001301889109808239\n",
      "lr: 0.00012909944487358055\n",
      "lr: 0.000128036879932896\n",
      "lr: 0.0001270001270001905\n",
      "lr: 0.0001259881576697424\n",
      "lr: 0.000125\n",
      "lr: 0.00012403473458920847\n",
      "lr: 0.00012309149097933272\n",
      "lr: 0.00012216944435630524\n",
      "lr: 0.00012126781251816648\n",
      "lr: 0.0001203858530857692\n",
      "lr: 0.00011952286093343937\n",
      "lr: 0.00011867816581938533\n",
      "lr: 0.00011785113019775794\n",
      "lr: 0.00011704114719613058\n",
      "lr: 0.00011624763874381928\n",
      "lr: 0.00011547005383792514\n",
      "lr: 0.00011470786693528087\n",
      "lr: 0.00011396057645963795\n",
      "lr: 0.00011322770341445957\n",
      "lr: 0.0001125087900926024\n",
      "lr: 0.00011180339887498949\n",
      "lr: 0.0001111111111111111\n",
      "lr: 0.00011043152607484654\n",
      "lr: 0.00010976425998969035\n",
      "lr: 0.0001091089451179962\n",
      "lr: 0.00010846522890932808\n",
      "lr: 0.00010783277320343842\n",
      "lr: 0.00010721125348377949\n",
      "lr: 0.00010660035817780521\n",
      "lr: 0.000105999788000636\n",
      "lr: 0.00010540925533894598\n",
      "lr: 0.00010482848367219184\n",
      "lr: 0.00010425720702853738\n",
      "lr: 0.00010369516947304252\n",
      "lr: 0.00010314212462587934\n",
      "lr: 0.00010259783520851542\n",
      "lr: 0.00010206207261596577\n",
      "lr: 0.00010153461651336192\n",
      "lr: 0.00010101525445522108\n",
      "C-SAGA Elapsed time: 15488.02s\n"
     ]
    }
   ],
   "source": [
    "#train C-SAGA\n",
    "tstart = time.process_time()\n",
    "for epoch in range(n_epochs):\n",
    "    idx = np.random.randint(X.shape[0])\n",
    "    inputs = torch.from_numpy(X)[idx].to(device)\n",
    "    labels = torch.tensor(y, dtype=torch.long)[idx].view(1).to(device)\n",
    "    label = int(labels.item())\n",
    "    outputs = model_CSAGA.forward(inputs).view(1,-1)\n",
    "    loss = criterion(outputs, labels)\n",
    "    loss.backward()\n",
    "    _, var = optimizer_CSAGA.step(idx = label)\n",
    "    #variance\n",
    "    if ((epoch % res_step_var) == 0):\n",
    "        CSAGA_var += var\n",
    "        CSAGA_avg_var.append(CSAGA_var/(epoch/res_step_var+1))\n",
    "    #losses\n",
    "    if ((epoch % res_step) == 0):\n",
    "        inputs = torch.from_numpy(X).to(device)\n",
    "        labels = torch.tensor(y, dtype=torch.long).to(device)\n",
    "        #true loss\n",
    "        outputs = model_CSAGA.forward(inputs)\n",
    "        loss = criterion(outputs, labels)\n",
    "        model_CSAGA_true_loss.append(loss.data.item())\n",
    "        #average loss\n",
    "        update_weight_average(model_CSAGA,model_CSAGA_average_w, iteration = (epoch/res_step+1))\n",
    "        loss = loss_from_average(model_CSAGA_average_w,(epoch/res_step+1),inputs,labels,criterion)\n",
    "        model_CSAGA_loss.append(loss.data.item())\n",
    "    optimizer_CSAGA.zero_grad()\n",
    "    #error\n",
    "    if ((epoch % res_step) == 0):\n",
    "#         model_CSAGA_test_e.append(compute_error(model_CSAGA,X_test,y_test))\n",
    "        model_CSAGA_test_e.append(compute_error(model_CSAGA_average_w,X_test,y_test))\n",
    "    if (epoch != 0 and (epoch % N_SAMPLES) == 0):\n",
    "        for param_group in optimizer_CSAGA.param_groups:\n",
    "            print(\"lr:\",param_group['lr'])\n",
    "        scheduler_CSAGA.step()\n",
    "print('C-SAGA Elapsed time: {:.2f}s'.format(time.process_time() - tstart))\n",
    "np.save('{}_{}_CSAGA_loss.npy'.format(model_str,data),np.asarray(model_CSAGA_loss))\n",
    "np.save('{}_{}_CSAGA_true_loss.npy'.format(model_str,data),np.asarray(model_CSAGA_true_loss))\n",
    "np.save('{}_{}_CSAGA_avg_var.npy'.format(model_str,data),np.asarray(CSAGA_avg_var))\n",
    "np.save('{}_{}_CSAGA_test_err.npy'.format(model_str,data),np.asarray(model_CSAGA_test_e))"
   ]
  },
  {
   "cell_type": "code",
   "execution_count": 19,
   "metadata": {
    "collapsed": false
   },
   "outputs": [
    {
     "name": "stdout",
     "output_type": "stream",
     "text": [
      "lr: 5e-05\n",
      "lr: 5e-05\n",
      "lr: 3.535533905932738e-05\n",
      "lr: 2.8867513459481293e-05\n",
      "lr: 2.5e-05\n",
      "lr: 2.2360679774997898e-05\n",
      "lr: 2.0412414523193156e-05\n",
      "lr: 1.889822365046136e-05\n",
      "lr: 1.767766952966369e-05\n",
      "lr: 1.6666666666666667e-05\n",
      "lr: 1.5811388300841898e-05\n",
      "lr: 1.5075567228888182e-05\n",
      "lr: 1.4433756729740646e-05\n",
      "lr: 1.3867504905630729e-05\n",
      "lr: 1.3363062095621221e-05\n",
      "lr: 1.2909944487358055e-05\n",
      "lr: 1.25e-05\n",
      "lr: 1.212678125181665e-05\n",
      "lr: 1.1785113019775794e-05\n",
      "lr: 1.1470786693528087e-05\n",
      "lr: 1.1180339887498949e-05\n",
      "lr: 1.091089451179962e-05\n",
      "lr: 1.066003581778052e-05\n",
      "lr: 1.0425720702853739e-05\n",
      "lr: 1.0206207261596578e-05\n",
      "lr: 1e-05\n",
      "lr: 9.805806756909202e-06\n",
      "lr: 9.622504486493764e-06\n",
      "lr: 9.44911182523068e-06\n",
      "lr: 9.284766908852593e-06\n",
      "lr: 9.128709291752768e-06\n",
      "lr: 8.980265101338746e-06\n",
      "lr: 8.838834764831844e-06\n",
      "lr: 8.703882797784894e-06\n",
      "lr: 8.574929257125441e-06\n",
      "lr: 8.451542547285165e-06\n",
      "lr: 8.333333333333334e-06\n",
      "lr: 8.219949365267866e-06\n",
      "lr: 8.111071056538128e-06\n",
      "lr: 8.006407690254356e-06\n",
      "lr: 7.905694150420949e-06\n",
      "lr: 7.808688094430303e-06\n",
      "lr: 7.715167498104596e-06\n",
      "lr: 7.624928516630233e-06\n",
      "lr: 7.537783614444091e-06\n",
      "lr: 7.4535599249993e-06\n",
      "lr: 7.372097807744857e-06\n",
      "lr: 7.293249574894728e-06\n",
      "lr: 7.216878364870323e-06\n",
      "lr: 7.142857142857143e-06\n",
      "lr: 7.0710678118654756e-06\n",
      "lr: 7.001400420140049e-06\n",
      "lr: 6.933752452815364e-06\n",
      "lr: 6.868028197434452e-06\n",
      "lr: 6.804138174397717e-06\n",
      "lr: 6.741998624632421e-06\n",
      "lr: 6.6815310478106105e-06\n",
      "lr: 6.62266178532522e-06\n",
      "lr: 6.565321642986128e-06\n",
      "lr: 6.5094455490411944e-06\n",
      "lr: 6.454972243679028e-06\n",
      "lr: 6.401843996644799e-06\n",
      "lr: 6.3500063500095255e-06\n",
      "lr: 6.2994078834871194e-06\n",
      "lr: 6.25e-06\n",
      "lr: 6.201736729460423e-06\n",
      "lr: 6.1545745489666364e-06\n",
      "lr: 6.108472217815261e-06\n",
      "lr: 6.063390625908325e-06\n",
      "lr: 6.01929265428846e-06\n",
      "lr: 5.976143046671968e-06\n",
      "lr: 5.933908290969267e-06\n",
      "lr: 5.892556509887897e-06\n",
      "lr: 5.852057359806529e-06\n",
      "lr: 5.812381937190965e-06\n",
      "lr: 5.773502691896257e-06\n",
      "lr: 5.735393346764044e-06\n",
      "lr: 5.698028822981898e-06\n",
      "lr: 5.661385170722978e-06\n",
      "lr: 5.62543950463012e-06\n",
      "lr: 5.5901699437494744e-06\n",
      "lr: 5.555555555555556e-06\n",
      "lr: 5.521576303742327e-06\n",
      "lr: 5.488212999484518e-06\n",
      "lr: 5.45544725589981e-06\n",
      "lr: 5.423261445466404e-06\n",
      "lr: 5.391638660171921e-06\n",
      "lr: 5.360562674188975e-06\n",
      "lr: 5.33001790889026e-06\n",
      "lr: 5.299989400031801e-06\n",
      "lr: 5.270462766947299e-06\n",
      "lr: 5.2414241836095915e-06\n",
      "lr: 5.212860351426869e-06\n",
      "lr: 5.184758473652127e-06\n",
      "lr: 5.157106231293967e-06\n",
      "lr: 5.129891760425771e-06\n",
      "lr: 5.103103630798289e-06\n",
      "lr: 5.076730825668096e-06\n",
      "lr: 5.050762722761053e-06\n",
      "Adam Elapsed time: 10339.25s\n"
     ]
    }
   ],
   "source": [
    "#train Adam\n",
    "tstart = time.process_time()\n",
    "for epoch in range(n_epochs):\n",
    "    idx = np.random.randint(X.shape[0])\n",
    "    inputs = torch.from_numpy(X)[idx].to(device)\n",
    "    labels = torch.tensor(y, dtype=torch.long)[idx].view(1).to(device)\n",
    "    outputs = model_Adam.forward(inputs).view(1,-1)\n",
    "    loss = criterion(outputs, labels)\n",
    "    loss.backward()\n",
    "    optimizer_Adam.step()\n",
    "    #variance\n",
    "    if ((epoch % res_step_var) == 0):\n",
    "        for param_group in list(model_Adam.parameters()):\n",
    "            Adam_var += (param_group.grad.data**2).sum()\n",
    "        Adam_avg_var.append(Adam_var/(epoch/res_step_var+1))\n",
    "    #losses\n",
    "    if ((epoch % res_step) == 0):\n",
    "        inputs = torch.from_numpy(X).to(device)\n",
    "        labels = torch.tensor(y, dtype=torch.long).to(device)\n",
    "        #true loss\n",
    "        outputs = model_Adam.forward(inputs)\n",
    "        loss = criterion(outputs, labels)\n",
    "        model_Adam_true_loss.append(loss.data.item())\n",
    "        #average loss\n",
    "        update_weight_average(model_Adam,model_Adam_average_w, iteration = (epoch/res_step+1))\n",
    "        loss = loss_from_average(model_Adam_average_w,(epoch/res_step+1),inputs,labels,criterion)\n",
    "        model_Adam_loss.append(loss.data.item())\n",
    "    optimizer_Adam.zero_grad()\n",
    "    #error\n",
    "    if ((epoch % res_step) == 0):\n",
    "#         model_Adam_test_e.append(compute_error(model_Adam,X_test,y_test))\n",
    "        model_Adam_test_e.append(compute_error(model_Adam_average_w,X_test,y_test))\n",
    "    if (epoch != 0 and (epoch % N_SAMPLES) == 0):\n",
    "        for param_group in optimizer_Adam.param_groups:\n",
    "            print(\"lr:\",param_group['lr'])\n",
    "        scheduler_Adam.step()\n",
    "print('Adam Elapsed time: {:.2f}s'.format(time.process_time() - tstart))\n",
    "np.save('{}_{}_Adam_loss.npy'.format(model_str,data),np.asarray(model_Adam_loss))\n",
    "np.save('{}_{}_Adam_true_loss.npy'.format(model_str,data),np.asarray(model_Adam_true_loss))\n",
    "np.save('{}_{}_Adam_avg_var.npy'.format(model_str,data),np.asarray(Adam_avg_var))\n",
    "np.save('{}_{}_Adam_test_err.npy'.format(model_str,data),np.asarray(model_Adam_test_e))"
   ]
  },
  {
   "cell_type": "code",
   "execution_count": 20,
   "metadata": {
    "collapsed": false
   },
   "outputs": [
    {
     "name": "stdout",
     "output_type": "stream",
     "text": [
      "lr: 7.5e-05\n",
      "lr: 7.5e-05\n",
      "lr: 5.3033008588991055e-05\n",
      "lr: 4.330127018922193e-05\n",
      "lr: 3.75e-05\n",
      "lr: 3.354101966249684e-05\n",
      "lr: 3.061862178478973e-05\n",
      "lr: 2.8347335475692037e-05\n",
      "lr: 2.6516504294495528e-05\n",
      "lr: 2.4999999999999998e-05\n",
      "lr: 2.3717082451262845e-05\n",
      "lr: 2.261335084333227e-05\n",
      "lr: 2.1650635094610966e-05\n",
      "lr: 2.080125735844609e-05\n",
      "lr: 2.0044593143431828e-05\n",
      "lr: 1.936491673103708e-05\n",
      "lr: 1.875e-05\n",
      "lr: 1.819017187772497e-05\n",
      "lr: 1.767766952966369e-05\n",
      "lr: 1.720618004029213e-05\n",
      "lr: 1.677050983124842e-05\n",
      "lr: 1.6366341767699426e-05\n",
      "lr: 1.599005372667078e-05\n",
      "lr: 1.5638581054280607e-05\n",
      "lr: 1.5309310892394865e-05\n",
      "lr: 1.4999999999999999e-05\n",
      "lr: 1.4708710135363803e-05\n",
      "lr: 1.4433756729740643e-05\n",
      "lr: 1.4173667737846019e-05\n",
      "lr: 1.3927150363278888e-05\n",
      "lr: 1.369306393762915e-05\n",
      "lr: 1.3470397652008116e-05\n",
      "lr: 1.3258252147247764e-05\n",
      "lr: 1.3055824196677337e-05\n",
      "lr: 1.286239388568816e-05\n",
      "lr: 1.2677313820927746e-05\n",
      "lr: 1.2499999999999999e-05\n",
      "lr: 1.2329924047901796e-05\n",
      "lr: 1.216660658480719e-05\n",
      "lr: 1.2009611535381534e-05\n",
      "lr: 1.1858541225631422e-05\n",
      "lr: 1.1713032141645454e-05\n",
      "lr: 1.1572751247156892e-05\n",
      "lr: 1.1437392774945349e-05\n",
      "lr: 1.1306675421666135e-05\n",
      "lr: 1.1180339887498947e-05\n",
      "lr: 1.1058146711617284e-05\n",
      "lr: 1.0939874362342091e-05\n",
      "lr: 1.0825317547305483e-05\n",
      "lr: 1.0714285714285712e-05\n",
      "lr: 1.0606601717798212e-05\n",
      "lr: 1.0502100630210072e-05\n",
      "lr: 1.0400628679223045e-05\n",
      "lr: 1.0302042296151677e-05\n",
      "lr: 1.0206207261596574e-05\n",
      "lr: 1.0112997936948632e-05\n",
      "lr: 1.0022296571715914e-05\n",
      "lr: 9.933992677987827e-06\n",
      "lr: 9.84798246447919e-06\n",
      "lr: 9.764168323561791e-06\n",
      "lr: 9.68245836551854e-06\n",
      "lr: 9.602765994967197e-06\n",
      "lr: 9.525009525014288e-06\n",
      "lr: 9.449111825230679e-06\n",
      "lr: 9.375e-06\n",
      "lr: 9.302605094190635e-06\n",
      "lr: 9.231861823449953e-06\n",
      "lr: 9.162708326722891e-06\n",
      "lr: 9.095085938862485e-06\n",
      "lr: 9.02893898143269e-06\n",
      "lr: 8.964214570007952e-06\n",
      "lr: 8.900862436453898e-06\n",
      "lr: 8.838834764831844e-06\n",
      "lr: 8.778086039709792e-06\n",
      "lr: 8.718572905786446e-06\n",
      "lr: 8.660254037844385e-06\n",
      "lr: 8.603090020146065e-06\n",
      "lr: 8.547043234472846e-06\n",
      "lr: 8.492077756084467e-06\n",
      "lr: 8.438159256945179e-06\n",
      "lr: 8.38525491562421e-06\n",
      "lr: 8.333333333333332e-06\n",
      "lr: 8.28236445561349e-06\n",
      "lr: 8.232319499226775e-06\n",
      "lr: 8.183170883849713e-06\n",
      "lr: 8.134892168199605e-06\n",
      "lr: 8.08745799025788e-06\n",
      "lr: 8.040844011283461e-06\n",
      "lr: 7.99502686333539e-06\n",
      "lr: 7.9499841000477e-06\n",
      "lr: 7.905694150420947e-06\n",
      "lr: 7.862136275414386e-06\n",
      "lr: 7.819290527140303e-06\n",
      "lr: 7.777137710478188e-06\n",
      "lr: 7.73565934694095e-06\n",
      "lr: 7.694837640638656e-06\n",
      "lr: 7.654655446197432e-06\n",
      "lr: 7.6150962385021434e-06\n",
      "lr: 7.5761440841415795e-06\n",
      "C-SAGA Adam Elapsed time: 18378.61s\n"
     ]
    }
   ],
   "source": [
    "#train C-SAGA Adam\n",
    "tstart = time.process_time()\n",
    "for epoch in range(n_epochs):\n",
    "    idx = np.random.randint(X.shape[0])\n",
    "    inputs = torch.from_numpy(X)[idx].to(device)\n",
    "    labels = torch.tensor(y, dtype=torch.long)[idx].view(1).to(device)\n",
    "    label = int(labels.item())\n",
    "    outputs = model_CSAGA_Adam.forward(inputs).view(1,-1)\n",
    "    loss = criterion(outputs, labels)\n",
    "    loss.backward()\n",
    "    _, var = optimizer_CSAGA_Adam.step(idx = label)\n",
    "    #variance\n",
    "    if ((epoch % res_step_var) == 0):\n",
    "        CSAGA_Adam_var += var\n",
    "        CSAGA_Adam_avg_var.append(CSAGA_Adam_var/(epoch/res_step_var+1))\n",
    "    #loss\n",
    "    if ((epoch % res_step) == 0):\n",
    "        inputs = torch.from_numpy(X).to(device)\n",
    "        labels = torch.tensor(y, dtype=torch.long).to(device)\n",
    "        #true loss\n",
    "        outputs = model_CSAGA_Adam.forward(inputs)\n",
    "        loss = criterion(outputs, labels)\n",
    "        model_CSAGA_Adam_true_loss.append(loss.data.item())\n",
    "        #average loss\n",
    "        update_weight_average(model_CSAGA_Adam,model_CSAGA_Adam_average_w, iteration = (epoch/res_step+1))\n",
    "        loss = loss_from_average(model_CSAGA_Adam_average_w,(epoch/res_step+1),inputs,labels,criterion)\n",
    "        model_CSAGA_Adam_loss.append(loss.data.item())\n",
    "    optimizer_CSAGA_Adam.zero_grad()\n",
    "    #error\n",
    "    if ((epoch % res_step) == 0):\n",
    "#         model_CSAGA_Adam_test_e.append(compute_error(model_CSAGA_Adam,X_test,y_test))\n",
    "        model_CSAGA_Adam_test_e.append(compute_error(model_CSAGA_Adam_average_w,X_test,y_test))\n",
    "    if (epoch != 0 and (epoch % N_SAMPLES) == 0):\n",
    "        for param_group in optimizer_CSAGA_Adam.param_groups:\n",
    "            print(\"lr:\",param_group['lr'])\n",
    "        scheduler_CSAGA_Adam.step()\n",
    "print('C-SAGA Adam Elapsed time: {:.2f}s'.format(time.process_time() - tstart))\n",
    "np.save('{}_{}_CSAGA_Adam_loss.npy'.format(model_str,data),np.asarray(model_CSAGA_Adam_loss))\n",
    "np.save('{}_{}_CSAGA_Adam_true_loss.npy'.format(model_str,data),np.asarray(model_CSAGA_Adam_true_loss))\n",
    "np.save('{}_{}_CSAGA_Adam_avg_var.npy'.format(model_str,data),np.asarray(CSAGA_Adam_avg_var))\n",
    "np.save('{}_{}_CSAGA_Adam_test_err.npy'.format(model_str,data),np.asarray(model_CSAGA_Adam_test_e))"
   ]
  },
  {
   "cell_type": "code",
   "execution_count": 21,
   "metadata": {
    "collapsed": true
   },
   "outputs": [],
   "source": [
    "def save_object(obj, filename):\n",
    "    with open(filename, 'wb') as output:\n",
    "        pickle.dump(obj, output, pickle.HIGHEST_PROTOCOL)"
   ]
  },
  {
   "cell_type": "code",
   "execution_count": 22,
   "metadata": {
    "collapsed": false
   },
   "outputs": [],
   "source": [
    "#save results\n",
    "# np.save('{}_{}_SGD_loss.npy'.format(model_str,data),np.asarray(model_SGD_loss))\n",
    "# np.save('{}_{}_CSAGA_loss.npy'.format(model_str,data),np.asarray(model_CSAGA_loss))\n",
    "# np.save('{}_{}_SGD_true_loss.npy'.format(model_str,data),np.asarray(model_SGD_true_loss))\n",
    "# np.save('{}_{}_CSAGA_true_loss.npy'.format(model_str,data),np.asarray(model_CSAGA_true_loss))\n",
    "# np.save('{}_{}_SGD_avg_var.npy'.format(model_str,data),np.asarray(SGD_avg_var))\n",
    "# np.save('{}_{}_CSAGA_avg_var.npy'.format(model_str,data),np.asarray(CSAGA_avg_var))\n",
    "# # np.save('{}_{}_SGD_var.npy'.format(model_str,data),np.asarray(SGD_var))\n",
    "# # np.save('{}_{}_CSAGA_var.npy'.format(model_str,data),np.asarray(CSAGA_var))\n",
    "# np.save('{}_{}_SGD_test_err.npy'.format(model_str,data),np.asarray(model_SGD_test_e))\n",
    "# np.save('{}_{}_CSAGA_test_err.npy'.format(model_str,data),np.asarray(model_CSAGA_test_e))\n",
    "\n",
    "# np.save('{}_{}_Adam_loss.npy'.format(model_str,data),np.asarray(model_Adam_loss))\n",
    "# np.save('{}_{}_CSAGA_Adam_loss.npy'.format(model_str,data),np.asarray(model_CSAGA_Adam_loss))\n",
    "# np.save('{}_{}_Adam_true_loss.npy'.format(model_str,data),np.asarray(model_Adam_true_loss))\n",
    "# np.save('{}_{}_CSAGA_Adam_true_loss.npy'.format(model_str,data),np.asarray(model_CSAGA_Adam_true_loss))\n",
    "# np.save('{}_{}_Adam_avg_var.npy'.format(model_str,data),np.asarray(Adam_avg_var))\n",
    "# np.save('{}_{}_CSAGA_Adam_avg_var.npy'.format(model_str,data),np.asarray(CSAGA_Adam_avg_var))\n",
    "# # np.save('{}_{}_Adam_var.npy'.format(model_str,data),np.asarray(Adam_var))\n",
    "# # np.save('{}_{}_CSAGA_Adam_var.npy'.format(model_str,data),np.asarray(CSAGA_Adam_var))\n",
    "# np.save('{}_{}_Adam_test_err.npy'.format(model_str,data),np.asarray(model_Adam_test_e))\n",
    "# np.save('{}_{}_CSAGA_Adam_test_err.npy'.format(model_str,data),np.asarray(model_CSAGA_Adam_test_e))\n",
    "\n",
    "# #save models\n",
    "# torch.save(model_SGD.state_dict(), '{}_{}_model_SGD.pth'.format(model_str,data))\n",
    "# torch.save(model_CSAGA.state_dict(), '{}_{}_model_CSAGA.pth'.format(model_str,data))\n",
    "# torch.save(model_Adam.state_dict(), '{}_{}_model_Adam.pth'.format(model_str,data))\n",
    "# torch.save(model_CSAGA.state_dict(), '{}_{}_model_CSAGA_Adam.pth'.format(model_str,data))\n",
    "\n",
    "# #save optimizers\n",
    "# torch.save(optimizer_SGD.state_dict(), '{}_{}_opt_SGD.pth'.format(model_str,data))\n",
    "# save_object(optimizer_CSAGA, '{}_{}_opt_CSAGA.pkl'.format(model_str,data))\n",
    "# torch.save(optimizer_Adam.state_dict(), '{}_{}_opt_Adam.pth'.format(model_str,data))\n",
    "# save_object(optimizer_CSAGA_Adam, '{}_{}_opt_CSAGA_Adam.pkl'.format(model_str,data))\n",
    "\n",
    "# #save schedulers\n",
    "# torch.save(scheduler_SGD.state_dict(), '{}_{}_sched_SGD.pth'.format(model_str,data))\n",
    "# torch.save(scheduler_CSAGA.state_dict(), '{}_{}_sched_CSAGA.pth'.format(model_str,data))\n",
    "# torch.save(scheduler_SGD.state_dict(), '{}_{}_sched_Adam.pth'.format(model_str,data))\n",
    "# torch.save(scheduler_CSAGA.state_dict(), '{}_{}_sched_CSAGA_Adam.pth'.format(model_str,data))"
   ]
  },
  {
   "cell_type": "code",
   "execution_count": 23,
   "metadata": {
    "collapsed": true
   },
   "outputs": [],
   "source": [
    "model_SGD_loss = np.load('{}_{}_SGD_loss.npy'.format(model_str,data)).tolist()\n",
    "model_CSAGA_loss = np.load('{}_{}_CSAGA_loss.npy'.format(model_str,data)).tolist()\n",
    "model_SGD_true_loss = np.load('{}_{}_SGD_true_loss.npy'.format(model_str,data)).tolist()\n",
    "model_CSAGA_true_loss = np.load('{}_{}_CSAGA_true_loss.npy'.format(model_str,data)).tolist()\n",
    "SGD_avg_var = np.load('{}_{}_SGD_avg_var.npy'.format(model_str,data)).tolist()\n",
    "CSAGA_avg_var = np.load('{}_{}_CSAGA_avg_var.npy'.format(model_str,data)).tolist()\n",
    "model_SGD_test_e = np.load('{}_{}_SGD_test_err.npy'.format(model_str,data)).tolist()\n",
    "model_CSAGA_test_e = np.load('{}_{}_CSAGA_test_err.npy'.format(model_str,data)).tolist()\n",
    "\n",
    "model_Adam_loss = np.load('{}_{}_Adam_loss.npy'.format(model_str,data)).tolist()\n",
    "model_CSAGA_Adam_loss = np.load('{}_{}_CSAGA_Adam_loss.npy'.format(model_str,data)).tolist()\n",
    "model_Adam_true_loss = np.load('{}_{}_Adam_true_loss.npy'.format(model_str,data)).tolist()\n",
    "model_CSAGA_Adam_true_loss = np.load('{}_{}_CSAGA_Adam_true_loss.npy'.format(model_str,data)).tolist()\n",
    "Adam_avg_var = np.load('{}_{}_Adam_avg_var.npy'.format(model_str,data)).tolist()\n",
    "CSAGA_Adam_avg_var = np.load('{}_{}_CSAGA_Adam_avg_var.npy'.format(model_str,data)).tolist()\n",
    "model_Adam_test_e = np.load('{}_{}_Adam_test_err.npy'.format(model_str,data)).tolist()\n",
    "model_CSAGA_Adam_test_e = np.load('{}_{}_CSAGA_Adam_test_err.npy'.format(model_str,data)).tolist()"
   ]
  },
  {
   "cell_type": "code",
   "execution_count": 24,
   "metadata": {
    "collapsed": false
   },
   "outputs": [],
   "source": [
    "#plot with hyperparam information\n",
    "def plot_val(losses, labels, value = \"Loss\"):\n",
    "    plt.figure(figsize=(15,5))\n",
    "    for loss, label in zip(losses, labels):\n",
    "        if len(loss) != 0:\n",
    "            print(label,loss[-1])\n",
    "        plt.plot(loss, label = label)\n",
    "    plt.legend(loc='upper right')\n",
    "    if (N_SAMPLES == 0):\n",
    "        n_s = \"all\"\n",
    "    else:\n",
    "        n_s = N_SAMPLES\n",
    "    plt.title('{} {} {} training {} SAGA ({}) (weight decay: {}, n_samples = {})'.format(model_str,\n",
    "                    data,centered,value,betas,weight_decay, n_s))\n",
    "    plt.xlabel('iteration/{}'.format(res_step))\n",
    "    plt.ylabel(value)\n",
    "    #plt.yscale('log')"
   ]
  },
  {
   "cell_type": "code",
   "execution_count": 25,
   "metadata": {
    "collapsed": false,
    "scrolled": true
   },
   "outputs": [
    {
     "name": "stdout",
     "output_type": "stream",
     "text": [
      "SGD (lr:0.0005) 1.643824577331543\n",
      "C-SAGA (gradient momentum : 0.1, lr:0.001) 1.6275137662887573\n",
      "Adam (lr:5e-05) 1.6566221714019775\n",
      "C-SAGA Adam (lr:7.5e-05) 1.6299296617507935\n"
     ]
    },
    {
     "data": {
      "image/png": "[encoded data removed]",
      "text/plain": [
       "<matplotlib.figure.Figure at 0x2be41c29898>"
      ]
     },
     "metadata": {},
     "output_type": "display_data"
    }
   ],
   "source": [
    "plot_val([model_SGD_loss, model_CSAGA_loss,model_Adam_loss,model_CSAGA_Adam_loss],\n",
    "         ['SGD (lr:{})'.format(lr_SGD), 'C-SAGA (gradient momentum : {}, lr:{})'.format(MOMENTUM_SAGA,lr_CSAGA),\n",
    "         'Adam (lr:{})'.format(lr_Adam),'C-SAGA Adam (lr:{})'.format(lr_CSAGA_Adam)])"
   ]
  },
  {
   "cell_type": "code",
   "execution_count": 36,
   "metadata": {
    "collapsed": true
   },
   "outputs": [],
   "source": [
    "def plot_suboptimality(losses, labels,val = \"Suboptimality\"):\n",
    "    plt.figure(figsize=(6,6))\n",
    "    for loss, label in zip(losses, labels):\n",
    "        plt.plot(np.asarray(loss)-optimal_loss, label = label)\n",
    "    plt.legend(loc='upper right')\n",
    "    plt.xlabel('iteration/{}'.format(res_step),fontsize = 25)\n",
    "    plt.yticks(fontsize=13)\n",
    "    plt.ylabel(val,fontsize = 25)\n",
    "    plt.yscale('log')"
   ]
  },
  {
   "cell_type": "code",
   "execution_count": 37,
   "metadata": {
    "collapsed": false
   },
   "outputs": [
    {
     "data": {
      "image/png": "[encoded data removed]",
      "text/plain": [
       "<matplotlib.figure.Figure at 0x2be84631748>"
      ]
     },
     "metadata": {},
     "output_type": "display_data"
    }
   ],
   "source": [
    "plot_suboptimality([model_SGD_true_loss, model_CSAGA_true_loss,model_Adam_true_loss,model_CSAGA_Adam_true_loss],\n",
    "         ['SGD', 'C-SAGA',\n",
    "         'Adam','C-SAGA Adam'])"
   ]
  },
  {
   "cell_type": "code",
   "execution_count": 28,
   "metadata": {
    "collapsed": false
   },
   "outputs": [
    {
     "data": {
      "image/png": "[encoded data removed]",
      "text/plain": [
       "<matplotlib.figure.Figure at 0x2be841f9cf8>"
      ]
     },
     "metadata": {},
     "output_type": "display_data"
    }
   ],
   "source": [
    "plot_suboptimality([model_SGD_loss, model_CSAGA_loss,model_Adam_loss,model_CSAGA_Adam_loss],\n",
    "         ['SGD', 'C-SAGA',\n",
    "         'Adam','C-SAGA Adam'])"
   ]
  },
  {
   "cell_type": "code",
   "execution_count": 29,
   "metadata": {
    "collapsed": true
   },
   "outputs": [],
   "source": [
    "#plot variance without hyperparam info\n",
    "def plot_var(losses, labels,val = \"Variance\"):\n",
    "    plt.figure(figsize=(6,6))\n",
    "    for loss, label in zip(losses, labels):\n",
    "        plt.plot(loss, label = label)\n",
    "    plt.legend(loc='upper right')\n",
    "    plt.xlabel('iteration/{}'.format(res_step),fontsize = 25)\n",
    "    plt.yticks(fontsize=13)\n",
    "    plt.ylabel(val,fontsize = 25)\n",
    "    #plt.yscale('log')"
   ]
  },
  {
   "cell_type": "code",
   "execution_count": 30,
   "metadata": {
    "collapsed": true
   },
   "outputs": [],
   "source": [
    "SGD_var_plot = SGD_avg_var[::10]\n",
    "CSAGA_var_plot = CSAGA_avg_var[::10]\n",
    "Adam_var_plot = Adam_avg_var[::10]\n",
    "CSAGA_Adam_var_plot = CSAGA_Adam_avg_var[::10]"
   ]
  },
  {
   "cell_type": "code",
   "execution_count": 31,
   "metadata": {
    "collapsed": false
   },
   "outputs": [
    {
     "data": {
      "image/png": "[encoded data removed]",
      "text/plain": [
       "<matplotlib.figure.Figure at 0x2be8456f6a0>"
      ]
     },
     "metadata": {},
     "output_type": "display_data"
    }
   ],
   "source": [
    "plot_var([SGD_var_plot,CSAGA_var_plot,Adam_var_plot,CSAGA_Adam_var_plot],\n",
    "         ['SGD', 'C-SAGA', 'Adam', 'C-SAGA Adam'])"
   ]
  },
  {
   "cell_type": "code",
   "execution_count": 32,
   "metadata": {
    "collapsed": true
   },
   "outputs": [],
   "source": [
    "#plot error without hyperparam info\n",
    "def plot_error(losses, labels,val = \"Error\"):\n",
    "    plt.figure(figsize=(6,6))\n",
    "    for losses, label in zip(losses, labels):\n",
    "        plt.plot(losses, label = label)\n",
    "    plt.legend(loc='upper right')\n",
    "    plt.xlabel('iteration/{}'.format(res_step),fontsize = 25)\n",
    "    plt.xticks(fontsize=13)\n",
    "    plt.yticks(fontsize=13)\n",
    "    plt.ylabel(val,fontsize = 25)\n",
    "    #plt.ylim(50, 300)"
   ]
  },
  {
   "cell_type": "code",
   "execution_count": 33,
   "metadata": {
    "collapsed": false
   },
   "outputs": [
    {
     "data": {
      "image/png": "[encoded data removed]",
      "text/plain": [
       "<matplotlib.figure.Figure at 0x2be845a1f28>"
      ]
     },
     "metadata": {},
     "output_type": "display_data"
    }
   ],
   "source": [
    "plot_error([model_SGD_test_e,model_CSAGA_test_e,model_Adam_test_e,model_CSAGA_Adam_test_e],\n",
    "         ['SGD', 'C-SAGA','Adam','C-SAGA Adam'])"
   ]
  },
  {
   "cell_type": "code",
   "execution_count": null,
   "metadata": {
    "collapsed": true
   },
   "outputs": [],
   "source": []
  },
  {
   "cell_type": "code",
   "execution_count": null,
   "metadata": {
    "collapsed": true
   },
   "outputs": [],
   "source": []
  },
  {
   "cell_type": "code",
   "execution_count": null,
   "metadata": {
    "collapsed": true
   },
   "outputs": [],
   "source": []
  },
  {
   "cell_type": "code",
   "execution_count": null,
   "metadata": {
    "collapsed": true
   },
   "outputs": [],
   "source": []
  },
  {
   "cell_type": "code",
   "execution_count": null,
   "metadata": {
    "collapsed": true
   },
   "outputs": [],
   "source": []
  },
  {
   "cell_type": "code",
   "execution_count": null,
   "metadata": {
    "collapsed": true
   },
   "outputs": [],
   "source": []
  },
  {
   "cell_type": "code",
   "execution_count": null,
   "metadata": {
    "collapsed": true
   },
   "outputs": [],
   "source": []
  },
  {
   "cell_type": "code",
   "execution_count": null,
   "metadata": {
    "collapsed": true
   },
   "outputs": [],
   "source": []
  },
  {
   "cell_type": "code",
   "execution_count": null,
   "metadata": {
    "collapsed": true
   },
   "outputs": [],
   "source": []
  },
  {
   "cell_type": "code",
   "execution_count": null,
   "metadata": {
    "collapsed": true
   },
   "outputs": [],
   "source": []
  },
  {
   "cell_type": "code",
   "execution_count": null,
   "metadata": {
    "collapsed": true
   },
   "outputs": [],
   "source": []
  },
  {
   "cell_type": "code",
   "execution_count": null,
   "metadata": {
    "collapsed": true
   },
   "outputs": [],
   "source": []
  },
  {
   "cell_type": "code",
   "execution_count": null,
   "metadata": {
    "collapsed": true
   },
   "outputs": [],
   "source": []
  }
 ],
 "metadata": {
  "kernelspec": {
   "display_name": "Python 3",
   "language": "python",
   "name": "python3"
  },
  "language_info": {
   "codemirror_mode": {
    "name": "ipython",
    "version": 3
   },
   "file_extension": ".py",
   "mimetype": "text/x-python",
   "name": "python",
   "nbconvert_exporter": "python",
   "pygments_lexer": "ipython3",
   "version": "3.5.2"
  }
 },
 "nbformat": 4,
 "nbformat_minor": 2
}
