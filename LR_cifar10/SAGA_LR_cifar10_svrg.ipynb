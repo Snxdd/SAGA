{
 "cells": [
  {
   "cell_type": "code",
   "execution_count": 1,
   "metadata": {},
   "outputs": [],
   "source": [
    "import numpy as np\n",
    "import torch as torch\n",
    "import torch.nn as nn\n",
    "import torch.nn.functional as F\n",
    "import matplotlib.pyplot as plt\n",
    "from saga import SAGA\n",
    "from svrg import SVRG\n",
    "from torch.optim.optimizer import Optimizer\n",
    "from torch.optim.lr_scheduler import StepLR,LambdaLR\n",
    "from helpers import *\n",
    "import copy\n",
    "import time\n",
    "import pickle\n",
    "%matplotlib inline"
   ]
  },
  {
   "cell_type": "code",
   "execution_count": 2,
   "metadata": {
    "collapsed": true
   },
   "outputs": [],
   "source": [
    "device = torch.device(\"cuda:0\" if torch.cuda.is_available() else \"cpu\")"
   ]
  },
  {
   "cell_type": "code",
   "execution_count": 3,
   "metadata": {},
   "outputs": [
    {
     "name": "stderr",
     "output_type": "stream",
     "text": [
      "Using TensorFlow backend.\n"
     ]
    }
   ],
   "source": [
    "MOMENTUM_SAGA = 0.1\n",
    "MOMENTUM_SGD = 0.9\n",
    "betas = (0.9,0.999)\n",
    "N_SAMPLES = 0 #set to 0 to use all dataset\n",
    "n_channels = 1 # 1 to flatten cifar10\n",
    "weight_decay = 0.001\n",
    "data = \"cifar10\" #\"mnist\" or \"cifar10\"\n",
    "X,y,X_test,y_test,IN_DIM,OUT_DIM = get_data(data,n_channels,N_SAMPLES)\n",
    "model_str = \"LR\"\n",
    "optimal_loss = 1.6123 #best loss at 400k iteration of GD\n",
    "lr_SGD = 0.0005\n",
    "lr_CSAGA = 0.001\n",
    "lr_SVRG = 0.001\n",
    "lr_Adam = 0.0001\n",
    "lr_CSAGA_Adam = 0.0001\n",
    "n_epochs = 30*50000\n",
    "res_step = int(n_epochs/30)#compute loss,variance and error every step iteration\n",
    "res_step_var = int(n_epochs/3000)\n",
    "continue_training = False\n",
    "centered = \"uncentered\"\n",
    "if (centered == \"centered\"):\n",
    "    X = (X/127.5) - 1\n",
    "else:\n",
    "    X = X/255\n",
    "\n",
    "if (N_SAMPLES == 0):\n",
    "    N_SAMPLES = X.shape[0]"
   ]
  },
  {
   "cell_type": "code",
   "execution_count": 4,
   "metadata": {},
   "outputs": [
    {
     "name": "stdout",
     "output_type": "stream",
     "text": [
      "0.473362\n",
      "0.0\n",
      "1.0\n",
      "(50000, 3072)\n"
     ]
    }
   ],
   "source": [
    "print(X.mean())\n",
    "print(X.min())\n",
    "print(X.max())\n",
    "print(X.shape)"
   ]
  },
  {
   "cell_type": "code",
   "execution_count": 5,
   "metadata": {},
   "outputs": [
    {
     "data": {
      "text/plain": [
       "0.00033159445932859572"
      ]
     },
     "execution_count": 5,
     "metadata": {},
     "output_type": "execute_result"
    }
   ],
   "source": [
    "L = (X**2).sum(axis = 1).max()\n",
    "1/L"
   ]
  },
  {
   "cell_type": "code",
   "execution_count": 6,
   "metadata": {},
   "outputs": [
    {
     "name": "stdout",
     "output_type": "stream",
     "text": [
      "7.0    5000\n",
      "3.0    5000\n",
      "5.0    5000\n",
      "9.0    5000\n",
      "0.0    5000\n",
      "8.0    5000\n",
      "2.0    5000\n",
      "1.0    5000\n",
      "4.0    5000\n",
      "6.0    5000\n",
      "dtype: int64\n"
     ]
    }
   ],
   "source": [
    "import pandas as pd\n",
    "print(pd.Series(y).value_counts())"
   ]
  },
  {
   "cell_type": "code",
   "execution_count": 7,
   "metadata": {
    "collapsed": true
   },
   "outputs": [],
   "source": [
    "class_proba = get_class_proba(y)"
   ]
  },
  {
   "cell_type": "code",
   "execution_count": 8,
   "metadata": {},
   "outputs": [
    {
     "data": {
      "text/plain": [
       "array([ 0.1,  0.1,  0.1,  0.1,  0.1,  0.1,  0.1,  0.1,  0.1,  0.1])"
      ]
     },
     "execution_count": 8,
     "metadata": {},
     "output_type": "execute_result"
    }
   ],
   "source": [
    "class_proba"
   ]
  },
  {
   "cell_type": "code",
   "execution_count": 9,
   "metadata": {
    "collapsed": true
   },
   "outputs": [],
   "source": [
    "class LR(nn.Module):\n",
    "    def __init__(self,IN_DIM,OUT_DIM):\n",
    "        super(LR, self).__init__()\n",
    "        self.linear = torch.nn.Linear(IN_DIM, OUT_DIM)\n",
    "        \n",
    "    def forward(self, x):\n",
    "        return self.linear(x)"
   ]
  },
  {
   "cell_type": "code",
   "execution_count": 10,
   "metadata": {},
   "outputs": [],
   "source": [
    "class NN(nn.Module):\n",
    "    def __init__(self,in_dim,out_dim):\n",
    "        super(NN, self).__init__()\n",
    "        self.mlp = nn.Sequential(\n",
    "        nn.Linear(in_dim,100),\n",
    "        nn.ReLU(),\n",
    "        nn.Linear(100,out_dim)\n",
    "        )\n",
    "    \n",
    "    def forward(self,x):\n",
    "        return self.mlp(x)"
   ]
  },
  {
   "cell_type": "code",
   "execution_count": 11,
   "metadata": {
    "collapsed": true
   },
   "outputs": [],
   "source": [
    "def init_params(model):\n",
    "    for param in model.parameters():\n",
    "        param.data.fill_(0)\n",
    "    return model"
   ]
  },
  {
   "cell_type": "code",
   "execution_count": 12,
   "metadata": {},
   "outputs": [],
   "source": [
    "if (model_str == 'LR'):\n",
    "    model = LR\n",
    "else:\n",
    "    model = NN\n",
    "    \n",
    "criterion = nn.CrossEntropyLoss()\n",
    "lr_lambda = lambda epoch : 1/np.sqrt(epoch+1)\n",
    "\n",
    "#if we want to continue training from a saved model, doesn't work though quite yet\n",
    "if continue_training:\n",
    "    #load values\n",
    "    model_SGD_loss = np.load('{}_{}_SGD_loss.npy'.format(model_str,data)).tolist()\n",
    "    model_CSAGA_loss = np.load('{}_{}_CSAGA_loss.npy'.format(model_str,data)).tolist()\n",
    "    model_SGD_true_loss = np.load('{}_{}_SGD_true_loss.npy'.format(model_str,data)).tolist()\n",
    "    model_CSAGA_true_loss = np.load('{}_{}_CSAGA_true_loss.npy'.format(model_str,data)).tolist()\n",
    "    SGD_avg_var = np.load('{}_{}_SGD_avg_var.npy'.format(model_str,data)).tolist()\n",
    "    CSAGA_avg_var = np.load('{}_{}_CSAGA_avg_var.npy'.format(model_str,data)).tolist()\n",
    "    SGD_var = np.asscalar(np.load('{}_{}_SGD_var.npy'.format(model_str,data)))\n",
    "    CSAGA_var = np.asscalar(np.load('{}_{}_CSAGA_var.npy'.format(model_str,data)))\n",
    "    model_SGD_test_e = np.load('{}_{}_SGD_test_err.npy'.format(model_str,data)).tolist()\n",
    "    model_CSAGA_test_e = np.load('{}_{}_CSAGA_test_err.npy'.format(model_str,data)).tolist()\n",
    "    \n",
    "    model_Adam_loss = np.load('{}_{}_Adam_loss.npy'.format(model_str,data)).tolist()\n",
    "    model_CSAGA_Adam_loss = np.load('{}_{}_CSAGA_Adam_loss.npy'.format(model_str,data)).tolist()\n",
    "    model_Adam_true_loss = np.load('{}_{}_Adam_true_loss.npy'.format(model_str,data)).tolist()\n",
    "    model_CSAGA_Adam_true_loss = np.load('{}_{}_CSAGA_Adam_true_loss.npy'.format(model_str,data)).tolist()\n",
    "    Adam_avg_var = np.load('{}_{}_Adam_avg_var.npy'.format(model_str,data)).tolist()\n",
    "    CSAGA_Adam_avg_var = np.load('{}_{}_CSAGA_Adam_avg_var.npy'.format(model_str,data)).tolist()\n",
    "    AdamSGD_var = np.asscalar(np.load('{}_{}_Adam_var.npy'.format(model_str,data)))\n",
    "    CSAGA_Adam_var = np.asscalar(np.load('{}_{}_CSAGA_Adam_var.npy'.format(model_str,data)))\n",
    "    model_Adam_test_e = np.load('{}_{}_Adam_test_err.npy'.format(model_str,data)).tolist()\n",
    "    model_CSAGA_Adam_test_e = np.load('{}_{}_CSAGA_Adam_test_err.npy'.format(model_str,data)).tolist()\n",
    "\n",
    "    #load models\n",
    "    model_SGD = model(IN_DIM,OUT_DIM)\n",
    "    model_SGD.load_state_dict(torch.load('{}_{}_model_SGD.pth'.format(model_str,data)))\n",
    "    model_SGD.to(device)\n",
    "    model_CSAGA = model(IN_DIM,OUT_DIM)\n",
    "    model_CSAGA.load_state_dict(torch.load('{}_{}_model_CSAGA.pth'.format(model_str,data)))\n",
    "    model_CSAGA.to(device)\n",
    "    model_SVRG = model(IN_DIM,OUT_DIM)\n",
    "    model_SVRG.load_state_dict(torch.load('{}_{}_model_SVRG.pth'.format(model_str,data)))\n",
    "    model_SVRG.to(device)\n",
    "    \n",
    "    model_Adam = model(IN_DIM,OUT_DIM)\n",
    "    model_Adam.load_state_dict(torch.load('{}_{}_model_Adam.pth'.format(model_str,data)))\n",
    "    model_Adam.to(device)\n",
    "    model_CSAGA_Adam = model(IN_DIM,OUT_DIM)\n",
    "    model_CSAGA_Adam.load_state_dict(torch.load('{}_{}_model_CSAGA_Adam.pth'.format(model_str,data)))\n",
    "    model_CSAGA_Adam.to(device)\n",
    "\n",
    "    #load optimizers\n",
    "    optimizer_SGD = torch.optim.SGD(model_SGD.parameters(),lr = lr,weight_decay = weight_decay)\n",
    "    optimizer_SGD.load_state_dict(torch.load('{}_{}_opt_SGD.pth'.format(model_str,data)))\n",
    "    with open('LR_cifar10_opt_CSAGA.pkl', 'rb') as obj:  \n",
    "        optimizer_CSAGA = pickle.load(obj)\n",
    "        \n",
    "    optimizer_Adam = torch.optim.Adam(model_Adam.parameters(),lr = lr,weight_decay = weight_decay)\n",
    "    optimizer_Adam.load_state_dict(torch.load('{}_{}_opt_Adam.pth'.format(model_str,data)))\n",
    "    with open('LR_cifar10_opt_CSAGA_Adam.pkl', 'rb') as obj:  \n",
    "        optimizer_CSAGA_Adam = pickle.load(obj)\n",
    "\n",
    "    #load schedulers\n",
    "    scheduler_SGD = LambdaLR(optimizer_SGD,lr_lambda = lr_lambda)\n",
    "    scheduler_SGD.load_state_dict(torch.load('{}_{}_sched_SGD.pth'.format(model_str,data)))\n",
    "    \n",
    "    scheduler_CSAGA = LambdaLR(optimizer_CSAGA,lr_lambda = lr_lambda)\n",
    "    scheduler_CSAGA.load_state_dict(torch.load('{}_{}_sched_CSAGA.pth'.format(model_str,data)))\n",
    "    \n",
    "    scheduler_Adam = LambdaLR(optimizer_Adam,lr_lambda = lr_lambda)\n",
    "    scheduler_Adam.load_state_dict(torch.load('{}_{}_sched_Adam.pth'.format(model_str,data)))\n",
    "    \n",
    "    scheduler_CSAGA_Adam = LambdaLR(optimizer_CSAGA_Adam,lr_lambda = lr_lambda)\n",
    "    scheduler_CSAGA_Adam.load_state_dict(torch.load('{}_{}_sched_CSAGA_Adam.pth'.format(model_str,data)))\n",
    "        \n",
    "else:\n",
    "    model_SGD = model(IN_DIM,OUT_DIM).to(device)\n",
    "    model_SGD_average_w = init_params(model(IN_DIM,OUT_DIM)).to(device)\n",
    "    model_CSAGA = model(IN_DIM,OUT_DIM).to(device)\n",
    "    model_CSAGA_average_w = init_params(model(IN_DIM,OUT_DIM)).to(device)\n",
    "    model_SVRG = model(IN_DIM,OUT_DIM).to(device)\n",
    "    model_SVRG_average_w = init_params(model(IN_DIM,OUT_DIM)).to(device)    \n",
    "    model_Adam = model(IN_DIM,OUT_DIM).to(device)\n",
    "    model_Adam_average_w = init_params(model(IN_DIM,OUT_DIM)).to(device)\n",
    "    model_CSAGA_Adam = model(IN_DIM,OUT_DIM).to(device)\n",
    "    model_CSAGA_Adam_average_w = init_params(model(IN_DIM,OUT_DIM)).to(device)\n",
    "                                                                         \n",
    "    model_SGD_loss = []\n",
    "    model_SGD_true_loss = []\n",
    "    model_SGD_test_e = []\n",
    "    model_CSAGA_loss = []\n",
    "    model_CSAGA_true_loss = []\n",
    "    model_CSAGA_test_e = []    \n",
    "    model_SVRG_loss = []\n",
    "    model_SVRG_true_loss = []\n",
    "    model_SVRG_test_e = []      \n",
    "    \n",
    "    model_Adam_loss = []\n",
    "    model_CSAGA_Adam_loss = []\n",
    "    model_Adam_true_loss = []\n",
    "    model_CSAGA_Adam_true_loss = []\n",
    "    model_Adam_test_e = []\n",
    "    model_CSAGA_Adam_test_e = []\n",
    "    \n",
    "    SGD_avg_var = []\n",
    "    SGD_var = 0\n",
    "    CSAGA_avg_var = []\n",
    "    CSAGA_var = 0   \n",
    "    SVRG_avg_var = []\n",
    "    SVRG_var = 0 \n",
    "    Adam_avg_var = []\n",
    "    Adam_var = 0\n",
    "    CSAGA_Adam_avg_var = []\n",
    "    CSAGA_Adam_var = 0\n",
    "\n",
    "    optimizer_SGD = torch.optim.SGD(model_SGD.parameters(), lr = lr_SGD,weight_decay = weight_decay)\n",
    "    optimizer_CSAGA = SAGA(model_CSAGA.parameters(),\n",
    "                                  n_classes=OUT_DIM, lr = lr_CSAGA,\n",
    "                                  class_proba = class_proba,momentum=MOMENTUM_SAGA,compute_var = True,\n",
    "                                weight_decay = weight_decay)\n",
    "    optimizer_SVRG = SVRG(model_SVRG.parameters(), lr = lr_SVRG,\n",
    "                                  momentum=MOMENTUM_SAGA,compute_var = True,\n",
    "                                weight_decay = weight_decay)\n",
    "    optimizer_Adam = torch.optim.Adam(model_Adam.parameters(), lr = lr_Adam,betas = betas,weight_decay = weight_decay)\n",
    "    optimizer_CSAGA_Adam = SAGA(model_CSAGA_Adam.parameters(),\n",
    "                                   n_classes=OUT_DIM, lr = lr_CSAGA_Adam,\n",
    "                              class_proba = class_proba,momentum=MOMENTUM_SAGA,compute_var = True, betas = betas,\n",
    "                                 use_adam = True,weight_decay = weight_decay)  \n",
    "\n",
    "    scheduler_SGD = LambdaLR(optimizer_SGD, lr_lambda = lr_lambda)\n",
    "    scheduler_CSAGA = LambdaLR(optimizer_CSAGA, lr_lambda = lr_lambda)\n",
    "    scheduler_Adam = LambdaLR(optimizer_Adam , lr_lambda = lr_lambda)\n",
    "    scheduler_CSAGA_Adam = LambdaLR(optimizer_CSAGA_Adam, lr_lambda = lr_lambda)"
   ]
  },
  {
   "cell_type": "code",
   "execution_count": 13,
   "metadata": {
    "collapsed": true
   },
   "outputs": [],
   "source": [
    "def update_weight_average(model,model_average_params,iteration):\n",
    "    for (model_w,average_w) in zip(list(model.parameters()),list(model_average_params.parameters())):\n",
    "        average_w.data = average_w.data + iteration*(model_w.data)"
   ]
  },
  {
   "cell_type": "code",
   "execution_count": 14,
   "metadata": {
    "collapsed": true
   },
   "outputs": [],
   "source": [
    "def loss_from_average(model_average_params,iteration,inputs,labels,criterion):\n",
    "    model_copy = copy.deepcopy(model_average_params)\n",
    "    for w in list(model_copy.parameters()):\n",
    "            w.data = 2*w.data/(iteration*(iteration+1))\n",
    "    outputs = model_copy.forward(inputs)\n",
    "    loss = criterion(outputs, labels) \n",
    "    return loss"
   ]
  },
  {
   "cell_type": "code",
   "execution_count": 15,
   "metadata": {
    "collapsed": true
   },
   "outputs": [],
   "source": [
    "def compute_error(model,X,y):\n",
    "    pred = model.forward(torch.Tensor(X_test).to(device))\n",
    "    pred = (torch.max(pred.data,1)[1]).cpu().numpy()\n",
    "    e = (y != pred).sum()\n",
    "    return e/X.shape[0]"
   ]
  },
  {
   "cell_type": "code",
   "execution_count": 16,
   "metadata": {},
   "outputs": [
    {
     "data": {
      "text/plain": [
       "0.87990000000000002"
      ]
     },
     "execution_count": 16,
     "metadata": {},
     "output_type": "execute_result"
    }
   ],
   "source": [
    "compute_error(model_SGD,X_test,y_test)"
   ]
  },
  {
   "cell_type": "code",
   "execution_count": 17,
   "metadata": {},
   "outputs": [
    {
     "name": "stdout",
     "output_type": "stream",
     "text": [
      "lr: 0.0005\n",
      "lr: 0.0005\n",
      "lr: 0.0005\n",
      "lr: 0.0005\n",
      "lr: 0.0005\n",
      "lr: 0.0005\n",
      "lr: 0.0005\n",
      "lr: 0.0005\n",
      "lr: 0.0005\n",
      "lr: 0.0005\n",
      "lr: 0.0005\n",
      "lr: 0.0005\n",
      "lr: 0.0005\n",
      "lr: 0.0005\n",
      "lr: 0.0005\n",
      "lr: 0.0005\n",
      "lr: 0.0005\n",
      "lr: 0.0005\n",
      "lr: 0.0005\n",
      "lr: 0.0005\n",
      "lr: 0.0005\n",
      "lr: 0.0005\n",
      "lr: 0.0005\n",
      "lr: 0.0005\n",
      "lr: 0.0005\n",
      "lr: 0.0005\n",
      "lr: 0.0005\n",
      "lr: 0.0005\n",
      "lr: 0.0005\n",
      "SGD Elapsed time: 553.52s\n"
     ]
    }
   ],
   "source": [
    "#train SGD\n",
    "tstart = time.process_time()\n",
    "for epoch in range(n_epochs):\n",
    "    idx = np.random.randint(X.shape[0])\n",
    "    inputs = torch.from_numpy(X)[idx].to(device)\n",
    "    labels = torch.tensor(y, dtype=torch.long)[idx].view(1).to(device)\n",
    "    outputs = model_SGD.forward(inputs).view(1,-1)\n",
    "    loss = criterion(outputs, labels)\n",
    "    loss.backward()\n",
    "    optimizer_SGD.step()\n",
    "    #variance\n",
    "    if ((epoch % res_step_var) == 0):\n",
    "        for param_group in list(model_SGD.parameters()):\n",
    "            SGD_var += (param_group.grad.data**2).sum()\n",
    "        SGD_avg_var.append(SGD_var/(epoch/res_step_var+1))\n",
    "    #losses\n",
    "    if ((epoch % res_step) == 0):\n",
    "        inputs = torch.from_numpy(X).to(device)\n",
    "        labels = torch.tensor(y, dtype=torch.long).to(device)\n",
    "        #true loss\n",
    "        outputs = model_SGD.forward(inputs)\n",
    "        loss = criterion(outputs, labels)\n",
    "        model_SGD_true_loss.append(loss.data.item())\n",
    "        #average loss\n",
    "        update_weight_average(model_SGD,model_SGD_average_w, iteration = (epoch/res_step+1))\n",
    "        loss = loss_from_average(model_SGD_average_w,(epoch/res_step+1),inputs,labels,criterion)\n",
    "        model_SGD_loss.append(loss.data.item())\n",
    "    optimizer_SGD.zero_grad()\n",
    "    #error\n",
    "    if ((epoch % res_step) == 0):\n",
    "#         model_SGD_test_e.append(compute_error(model_SGD,X_test,y_test))\n",
    "        model_SGD_test_e.append(compute_error(model_SGD_average_w,X_test,y_test))\n",
    "    if (epoch != 0 and (epoch % N_SAMPLES) == 0):\n",
    "        for param_group in optimizer_SGD.param_groups:\n",
    "            print(\"lr:\",param_group['lr'])\n",
    "        #scheduler_SGD.step()\n",
    "print('SGD Elapsed time: {:.2f}s'.format(time.process_time() - tstart))\n",
    "np.save('{}_{}_SGD_loss.npy'.format(model_str,data),np.asarray(model_SGD_loss))\n",
    "np.save('{}_{}_SGD_true_loss.npy'.format(model_str,data),np.asarray(model_SGD_true_loss))\n",
    "np.save('{}_{}_SGD_avg_var.npy'.format(model_str,data),np.asarray(SGD_avg_var))\n",
    "np.save('{}_{}_SGD_test_err.npy'.format(model_str,data),np.asarray(model_SGD_test_e))"
   ]
  },
  {
   "cell_type": "code",
   "execution_count": 18,
   "metadata": {},
   "outputs": [
    {
     "name": "stdout",
     "output_type": "stream",
     "text": [
      "lr: 0.001\n",
      "lr: 0.001\n",
      "lr: 0.001\n",
      "lr: 0.001\n",
      "lr: 0.001\n",
      "lr: 0.001\n",
      "lr: 0.001\n",
      "lr: 0.001\n",
      "lr: 0.001\n",
      "lr: 0.001\n",
      "lr: 0.001\n",
      "lr: 0.001\n",
      "lr: 0.001\n",
      "lr: 0.001\n",
      "lr: 0.001\n",
      "lr: 0.001\n",
      "lr: 0.001\n",
      "lr: 0.001\n",
      "lr: 0.001\n",
      "lr: 0.001\n",
      "lr: 0.001\n",
      "lr: 0.001\n",
      "lr: 0.001\n",
      "lr: 0.001\n",
      "lr: 0.001\n",
      "lr: 0.001\n",
      "lr: 0.001\n",
      "lr: 0.001\n",
      "lr: 0.001\n",
      "C-SAGA Elapsed time: 1022.98s\n"
     ]
    }
   ],
   "source": [
    "#train C-SAGA\n",
    "tstart = time.process_time()\n",
    "for epoch in range(n_epochs):\n",
    "    idx = np.random.randint(X.shape[0])\n",
    "    inputs = torch.from_numpy(X)[idx].to(device)\n",
    "    labels = torch.tensor(y, dtype=torch.long)[idx].view(1).to(device)\n",
    "    label = int(labels.item())\n",
    "    outputs = model_CSAGA.forward(inputs).view(1,-1)\n",
    "    loss = criterion(outputs, labels)\n",
    "    loss.backward()\n",
    "    _, var = optimizer_CSAGA.step(idx = label)\n",
    "    #variance\n",
    "    if ((epoch % res_step_var) == 0):\n",
    "        CSAGA_var += var\n",
    "        CSAGA_avg_var.append(CSAGA_var/(epoch/res_step_var+1))\n",
    "    #losses\n",
    "    if ((epoch % res_step) == 0):\n",
    "        inputs = torch.from_numpy(X).to(device)\n",
    "        labels = torch.tensor(y, dtype=torch.long).to(device)\n",
    "        #true loss\n",
    "        outputs = model_CSAGA.forward(inputs)\n",
    "        loss = criterion(outputs, labels)\n",
    "        model_CSAGA_true_loss.append(loss.data.item())\n",
    "        #average loss\n",
    "        update_weight_average(model_CSAGA,model_CSAGA_average_w, iteration = (epoch/res_step+1))\n",
    "        loss = loss_from_average(model_CSAGA_average_w,(epoch/res_step+1),inputs,labels,criterion)\n",
    "        model_CSAGA_loss.append(loss.data.item())\n",
    "    optimizer_CSAGA.zero_grad()\n",
    "    #error\n",
    "    if ((epoch % res_step) == 0):\n",
    "#         model_CSAGA_test_e.append(compute_error(model_CSAGA,X_test,y_test))\n",
    "        model_CSAGA_test_e.append(compute_error(model_CSAGA_average_w,X_test,y_test))\n",
    "    if (epoch != 0 and (epoch % N_SAMPLES) == 0):\n",
    "        for param_group in optimizer_CSAGA.param_groups:\n",
    "            print(\"lr:\",param_group['lr'])\n",
    "        #scheduler_CSAGA.step()\n",
    "print('C-SAGA Elapsed time: {:.2f}s'.format(time.process_time() - tstart))\n",
    "np.save('{}_{}_CSAGA_loss.npy'.format(model_str,data),np.asarray(model_CSAGA_loss))\n",
    "np.save('{}_{}_CSAGA_true_loss.npy'.format(model_str,data),np.asarray(model_CSAGA_true_loss))\n",
    "np.save('{}_{}_CSAGA_avg_var.npy'.format(model_str,data),np.asarray(CSAGA_avg_var))\n",
    "np.save('{}_{}_CSAGA_test_err.npy'.format(model_str,data),np.asarray(model_CSAGA_test_e))"
   ]
  },
  {
   "cell_type": "code",
   "execution_count": 19,
   "metadata": {},
   "outputs": [
    {
     "name": "stdout",
     "output_type": "stream",
     "text": [
      "SVRG Elapsed time: 1089.82s\n"
     ]
    }
   ],
   "source": [
    "#train SVRG\n",
    "tstart = time.process_time()\n",
    "for epoch in range(n_epochs):\n",
    "    #snapshot\n",
    "    if (epoch % N_SAMPLES == 0):\n",
    "        model_snapshot = copy.deepcopy(model_SVRG)\n",
    "        model_snapshot_avg = copy.deepcopy(model_snapshot)\n",
    "        model_snapshot_avg.zero_grad()\n",
    "        inputs = torch.from_numpy(X).to(device)\n",
    "        labels = torch.tensor(y, dtype=torch.long).to(device)\n",
    "        outputs = model_snapshot_avg.forward(inputs)\n",
    "        loss = criterion(outputs, labels)\n",
    "        loss.backward()\n",
    "        model_snapshot.zero_grad()\n",
    "        model_SVRG.zero_grad()\n",
    "    idx = np.random.randint(X.shape[0])\n",
    "    inputs = torch.from_numpy(X)[idx].to(device)\n",
    "    labels = torch.tensor(y, dtype=torch.long)[idx].view(1).to(device)\n",
    "    #snapshot grad\n",
    "    outputs = model_snapshot.forward(inputs).view(1,-1)\n",
    "    loss = criterion(outputs, labels)\n",
    "    loss.backward()\n",
    "    #current grad\n",
    "    outputs = model_SVRG.forward(inputs).view(1,-1)\n",
    "    loss = criterion(outputs, labels)\n",
    "    loss.backward()\n",
    "    #print(\"EPOCH\",epoch)\n",
    "    _, var = optimizer_SVRG.step(snap_grad = list(model_snapshot.parameters()),\n",
    "                                 snap_avg_grad = list(model_snapshot_avg.parameters()))\n",
    "    #variance\n",
    "    if ((epoch % res_step_var) == 0):\n",
    "        SVRG_var += var\n",
    "        SVRG_avg_var.append(SVRG_var/(epoch/res_step_var+1))\n",
    "    #losses\n",
    "    if ((epoch % res_step) == 0):\n",
    "        inputs = torch.from_numpy(X).to(device)\n",
    "        labels = torch.tensor(y, dtype=torch.long).to(device)\n",
    "        #true loss\n",
    "        outputs = model_SVRG.forward(inputs)\n",
    "        loss = criterion(outputs, labels)\n",
    "        model_SVRG_true_loss.append(loss.data.item())\n",
    "        #average loss\n",
    "        update_weight_average(model_SVRG,model_SVRG_average_w, iteration = (epoch/res_step+1))\n",
    "        loss = loss_from_average(model_SVRG_average_w,(epoch/res_step+1),inputs,labels,criterion)\n",
    "        model_SVRG_loss.append(loss.data.item())\n",
    "    optimizer_SVRG.zero_grad()\n",
    "    model_snapshot.zero_grad()\n",
    "    #error\n",
    "    if ((epoch % res_step) == 0):\n",
    "#         model_CSAGA_test_e.append(compute_error(model_CSAGA,X_test,y_test))\n",
    "        model_SVRG_test_e.append(compute_error(model_SVRG_average_w,X_test,y_test))\n",
    "    #if (epoch != 0 and (epoch % N_SAMPLES) == 0):\n",
    "    #    for param_group in optimizer_SVRG.param_groups:\n",
    "    #        print(\"lr:\",param_group['lr'])\n",
    "    #    scheduler_SVRG.step()\n",
    "print('SVRG Elapsed time: {:.2f}s'.format(time.process_time() - tstart))\n",
    "np.save('{}_{}_SVRG_loss.npy'.format(model_str,data),np.asarray(model_SVRG_loss))\n",
    "np.save('{}_{}_SVRG_true_loss.npy'.format(model_str,data),np.asarray(model_SVRG_true_loss))\n",
    "np.save('{}_{}_SVRG_avg_var.npy'.format(model_str,data),np.asarray(SVRG_avg_var))\n",
    "np.save('{}_{}_SVRG_test_err.npy'.format(model_str,data),np.asarray(model_SVRG_test_e))"
   ]
  },
  {
   "cell_type": "markdown",
   "metadata": {},
   "source": [
    "#train Adam\n",
    "tstart = time.process_time()\n",
    "for epoch in range(n_epochs):\n",
    "    idx = np.random.randint(X.shape[0])\n",
    "    inputs = torch.from_numpy(X)[idx].to(device)\n",
    "    labels = torch.tensor(y, dtype=torch.long)[idx].view(1).to(device)\n",
    "    outputs = model_Adam.forward(inputs).view(1,-1)\n",
    "    loss = criterion(outputs, labels)\n",
    "    loss.backward()\n",
    "    optimizer_Adam.step()\n",
    "    #variance\n",
    "    if ((epoch % res_step_var) == 0):\n",
    "        for param_group in list(model_Adam.parameters()):\n",
    "            Adam_var += (param_group.grad.data**2).sum()\n",
    "        Adam_avg_var.append(Adam_var/(epoch/res_step_var+1))\n",
    "    #losses\n",
    "    if ((epoch % res_step) == 0):\n",
    "        inputs = torch.from_numpy(X).to(device)\n",
    "        labels = torch.tensor(y, dtype=torch.long).to(device)\n",
    "        #true loss\n",
    "        outputs = model_Adam.forward(inputs)\n",
    "        loss = criterion(outputs, labels)\n",
    "        model_Adam_true_loss.append(loss.data.item())\n",
    "        #average loss\n",
    "        update_weight_average(model_Adam,model_Adam_average_w, iteration = (epoch/res_step+1))\n",
    "        loss = loss_from_average(model_Adam_average_w,(epoch/res_step+1),inputs,labels,criterion)\n",
    "        model_Adam_loss.append(loss.data.item())\n",
    "    optimizer_Adam.zero_grad()\n",
    "    #error\n",
    "    if ((epoch % res_step) == 0):\n",
    "#         model_Adam_test_e.append(compute_error(model_Adam,X_test,y_test))\n",
    "        model_Adam_test_e.append(compute_error(model_Adam_average_w,X_test,y_test))\n",
    "    if (epoch != 0 and (epoch % N_SAMPLES) == 0):\n",
    "        for param_group in optimizer_Adam.param_groups:\n",
    "            print(\"lr:\",param_group['lr'])\n",
    "        scheduler_Adam.step()\n",
    "print('Adam Elapsed time: {:.2f}s'.format(time.process_time() - tstart))\n",
    "np.save('{}_{}_Adam_loss.npy'.format(model_str,data),np.asarray(model_Adam_loss))\n",
    "np.save('{}_{}_Adam_true_loss.npy'.format(model_str,data),np.asarray(model_Adam_true_loss))\n",
    "np.save('{}_{}_Adam_avg_var.npy'.format(model_str,data),np.asarray(Adam_avg_var))\n",
    "np.save('{}_{}_Adam_test_err.npy'.format(model_str,data),np.asarray(model_Adam_test_e))"
   ]
  },
  {
   "cell_type": "markdown",
   "metadata": {},
   "source": [
    "#train C-SAGA Adam\n",
    "tstart = time.process_time()\n",
    "for epoch in range(n_epochs):\n",
    "    idx = np.random.randint(X.shape[0])\n",
    "    inputs = torch.from_numpy(X)[idx].to(device)\n",
    "    labels = torch.tensor(y, dtype=torch.long)[idx].view(1).to(device)\n",
    "    label = int(labels.item())\n",
    "    outputs = model_CSAGA_Adam.forward(inputs).view(1,-1)\n",
    "    loss = criterion(outputs, labels)\n",
    "    loss.backward()\n",
    "    _, var = optimizer_CSAGA_Adam.step(idx = label)\n",
    "    #variance\n",
    "    if ((epoch % res_step_var) == 0):\n",
    "        CSAGA_Adam_var += var\n",
    "        CSAGA_Adam_avg_var.append(CSAGA_Adam_var/(epoch/res_step_var+1))\n",
    "    #loss\n",
    "    if ((epoch % res_step) == 0):\n",
    "        inputs = torch.from_numpy(X).to(device)\n",
    "        labels = torch.tensor(y, dtype=torch.long).to(device)\n",
    "        #true loss\n",
    "        outputs = model_CSAGA_Adam.forward(inputs)\n",
    "        loss = criterion(outputs, labels)\n",
    "        model_CSAGA_Adam_true_loss.append(loss.data.item())\n",
    "        #average loss\n",
    "        update_weight_average(model_CSAGA_Adam,model_CSAGA_Adam_average_w, iteration = (epoch/res_step+1))\n",
    "        loss = loss_from_average(model_CSAGA_Adam_average_w,(epoch/res_step+1),inputs,labels,criterion)\n",
    "        model_CSAGA_Adam_loss.append(loss.data.item())\n",
    "    optimizer_CSAGA_Adam.zero_grad()\n",
    "    #error\n",
    "    if ((epoch % res_step) == 0):\n",
    "#         model_CSAGA_Adam_test_e.append(compute_error(model_CSAGA_Adam,X_test,y_test))\n",
    "        model_CSAGA_Adam_test_e.append(compute_error(model_CSAGA_Adam_average_w,X_test,y_test))\n",
    "    if (epoch != 0 and (epoch % N_SAMPLES) == 0):\n",
    "        for param_group in optimizer_CSAGA_Adam.param_groups:\n",
    "            print(\"lr:\",param_group['lr'])\n",
    "        scheduler_CSAGA_Adam.step()\n",
    "print('C-SAGA Adam Elapsed time: {:.2f}s'.format(time.process_time() - tstart))\n",
    "np.save('{}_{}_CSAGA_Adam_loss.npy'.format(model_str,data),np.asarray(model_CSAGA_Adam_loss))\n",
    "np.save('{}_{}_CSAGA_Adam_true_loss.npy'.format(model_str,data),np.asarray(model_CSAGA_Adam_true_loss))\n",
    "np.save('{}_{}_CSAGA_Adam_avg_var.npy'.format(model_str,data),np.asarray(CSAGA_Adam_avg_var))\n",
    "np.save('{}_{}_CSAGA_Adam_test_err.npy'.format(model_str,data),np.asarray(model_CSAGA_Adam_test_e))"
   ]
  },
  {
   "cell_type": "code",
   "execution_count": 20,
   "metadata": {
    "collapsed": true
   },
   "outputs": [],
   "source": [
    "def save_object(obj, filename):\n",
    "    with open(filename, 'wb') as output:\n",
    "        pickle.dump(obj, output, pickle.HIGHEST_PROTOCOL)"
   ]
  },
  {
   "cell_type": "code",
   "execution_count": 21,
   "metadata": {},
   "outputs": [],
   "source": [
    "#save results\n",
    "# np.save('{}_{}_SGD_loss.npy'.format(model_str,data),np.asarray(model_SGD_loss))\n",
    "# np.save('{}_{}_CSAGA_loss.npy'.format(model_str,data),np.asarray(model_CSAGA_loss))\n",
    "# np.save('{}_{}_SGD_true_loss.npy'.format(model_str,data),np.asarray(model_SGD_true_loss))\n",
    "# np.save('{}_{}_CSAGA_true_loss.npy'.format(model_str,data),np.asarray(model_CSAGA_true_loss))\n",
    "# np.save('{}_{}_SGD_avg_var.npy'.format(model_str,data),np.asarray(SGD_avg_var))\n",
    "# np.save('{}_{}_CSAGA_avg_var.npy'.format(model_str,data),np.asarray(CSAGA_avg_var))\n",
    "# # np.save('{}_{}_SGD_var.npy'.format(model_str,data),np.asarray(SGD_var))\n",
    "# # np.save('{}_{}_CSAGA_var.npy'.format(model_str,data),np.asarray(CSAGA_var))\n",
    "# np.save('{}_{}_SGD_test_err.npy'.format(model_str,data),np.asarray(model_SGD_test_e))\n",
    "# np.save('{}_{}_CSAGA_test_err.npy'.format(model_str,data),np.asarray(model_CSAGA_test_e))\n",
    "\n",
    "# np.save('{}_{}_Adam_loss.npy'.format(model_str,data),np.asarray(model_Adam_loss))\n",
    "# np.save('{}_{}_CSAGA_Adam_loss.npy'.format(model_str,data),np.asarray(model_CSAGA_Adam_loss))\n",
    "# np.save('{}_{}_Adam_true_loss.npy'.format(model_str,data),np.asarray(model_Adam_true_loss))\n",
    "# np.save('{}_{}_CSAGA_Adam_true_loss.npy'.format(model_str,data),np.asarray(model_CSAGA_Adam_true_loss))\n",
    "# np.save('{}_{}_Adam_avg_var.npy'.format(model_str,data),np.asarray(Adam_avg_var))\n",
    "# np.save('{}_{}_CSAGA_Adam_avg_var.npy'.format(model_str,data),np.asarray(CSAGA_Adam_avg_var))\n",
    "# # np.save('{}_{}_Adam_var.npy'.format(model_str,data),np.asarray(Adam_var))\n",
    "# # np.save('{}_{}_CSAGA_Adam_var.npy'.format(model_str,data),np.asarray(CSAGA_Adam_var))\n",
    "# np.save('{}_{}_Adam_test_err.npy'.format(model_str,data),np.asarray(model_Adam_test_e))\n",
    "# np.save('{}_{}_CSAGA_Adam_test_err.npy'.format(model_str,data),np.asarray(model_CSAGA_Adam_test_e))\n",
    "\n",
    "# #save models\n",
    "# torch.save(model_SGD.state_dict(), '{}_{}_model_SGD.pth'.format(model_str,data))\n",
    "# torch.save(model_CSAGA.state_dict(), '{}_{}_model_CSAGA.pth'.format(model_str,data))\n",
    "# torch.save(model_Adam.state_dict(), '{}_{}_model_Adam.pth'.format(model_str,data))\n",
    "# torch.save(model_CSAGA.state_dict(), '{}_{}_model_CSAGA_Adam.pth'.format(model_str,data))\n",
    "\n",
    "# #save optimizers\n",
    "# torch.save(optimizer_SGD.state_dict(), '{}_{}_opt_SGD.pth'.format(model_str,data))\n",
    "# save_object(optimizer_CSAGA, '{}_{}_opt_CSAGA.pkl'.format(model_str,data))\n",
    "# torch.save(optimizer_Adam.state_dict(), '{}_{}_opt_Adam.pth'.format(model_str,data))\n",
    "# save_object(optimizer_CSAGA_Adam, '{}_{}_opt_CSAGA_Adam.pkl'.format(model_str,data))\n",
    "\n",
    "# #save schedulers\n",
    "# torch.save(scheduler_SGD.state_dict(), '{}_{}_sched_SGD.pth'.format(model_str,data))\n",
    "# torch.save(scheduler_CSAGA.state_dict(), '{}_{}_sched_CSAGA.pth'.format(model_str,data))\n",
    "# torch.save(scheduler_SGD.state_dict(), '{}_{}_sched_Adam.pth'.format(model_str,data))\n",
    "# torch.save(scheduler_CSAGA.state_dict(), '{}_{}_sched_CSAGA_Adam.pth'.format(model_str,data))"
   ]
  },
  {
   "cell_type": "code",
   "execution_count": 22,
   "metadata": {
    "collapsed": true
   },
   "outputs": [],
   "source": [
    "# model_SGD_loss = np.load('{}_{}_SGD_loss.npy'.format(model_str,data)).tolist()\n",
    "# model_CSAGA_loss = np.load('{}_{}_CSAGA_loss.npy'.format(model_str,data)).tolist()\n",
    "# model_SGD_true_loss = np.load('{}_{}_SGD_true_loss.npy'.format(model_str,data)).tolist()\n",
    "# model_CSAGA_true_loss = np.load('{}_{}_CSAGA_true_loss.npy'.format(model_str,data)).tolist()\n",
    "# SGD_avg_var = np.load('{}_{}_SGD_avg_var.npy'.format(model_str,data)).tolist()\n",
    "# CSAGA_avg_var = np.load('{}_{}_CSAGA_avg_var.npy'.format(model_str,data)).tolist()\n",
    "# model_SGD_test_e = np.load('{}_{}_SGD_test_err.npy'.format(model_str,data)).tolist()\n",
    "# model_CSAGA_test_e = np.load('{}_{}_CSAGA_test_err.npy'.format(model_str,data)).tolist()\n",
    "\n",
    "# model_Adam_loss = np.load('{}_{}_Adam_loss.npy'.format(model_str,data)).tolist()\n",
    "# model_CSAGA_Adam_loss = np.load('{}_{}_CSAGA_Adam_loss.npy'.format(model_str,data)).tolist()\n",
    "# model_Adam_true_loss = np.load('{}_{}_Adam_true_loss.npy'.format(model_str,data)).tolist()\n",
    "# model_CSAGA_Adam_true_loss = np.load('{}_{}_CSAGA_Adam_true_loss.npy'.format(model_str,data)).tolist()\n",
    "# Adam_avg_var = np.load('{}_{}_Adam_avg_var.npy'.format(model_str,data)).tolist()\n",
    "# CSAGA_Adam_avg_var = np.load('{}_{}_CSAGA_Adam_avg_var.npy'.format(model_str,data)).tolist()\n",
    "# model_Adam_test_e = np.load('{}_{}_Adam_test_err.npy'.format(model_str,data)).tolist()\n",
    "# model_CSAGA_Adam_test_e = np.load('{}_{}_CSAGA_Adam_test_err.npy'.format(model_str,data)).tolist()"
   ]
  },
  {
   "cell_type": "code",
   "execution_count": 23,
   "metadata": {},
   "outputs": [],
   "source": [
    "#plot with hyperparam information\n",
    "def plot_val(losses, labels, value = \"Loss\"):\n",
    "    plt.figure(figsize=(15,5))\n",
    "    for loss, label in zip(losses, labels):\n",
    "        if len(loss) != 0:\n",
    "            print(label,loss[-1])\n",
    "        plt.plot(loss, label = label)\n",
    "    plt.legend(loc='upper right')\n",
    "    if (N_SAMPLES == 0):\n",
    "        n_s = \"all\"\n",
    "    else:\n",
    "        n_s = N_SAMPLES\n",
    "    plt.title('{} {} {} training {} SAGA ({}) (weight decay: {}, n_samples = {})'.format(model_str,\n",
    "                    data,centered,value,betas,weight_decay, n_s))\n",
    "    plt.xlabel('iteration/{}'.format(res_step))\n",
    "    plt.ylabel(value)\n",
    "    #plt.yscale('log')"
   ]
  },
  {
   "cell_type": "code",
   "execution_count": 24,
   "metadata": {
    "scrolled": true
   },
   "outputs": [
    {
     "name": "stdout",
     "output_type": "stream",
     "text": [
      "SGD (lr:0.0005) 1.6410785913467407\n",
      "C-SAGA (gradient momentum : 0.1, lr:0.001) 1.6280642747879028\n",
      "SVRG (lr:0.001) 1.6253116130828857\n"
     ]
    },
    {
     "data": {
      "image/png": "[encoded data removed]",
      "text/plain": [
       "<matplotlib.figure.Figure at 0x12822b358>"
      ]
     },
     "metadata": {},
     "output_type": "display_data"
    }
   ],
   "source": [
    "plot_val([model_SGD_loss, model_CSAGA_loss,\n",
    "          model_SVRG_loss,model_Adam_loss,model_CSAGA_Adam_loss],\n",
    "         ['SGD (lr:{})'.format(lr_SGD), 'C-SAGA (gradient momentum : {}, lr:{})'.format(MOMENTUM_SAGA,lr_CSAGA),\n",
    "         'SVRG (lr:{})'.format(lr_SVRG),'Adam (lr:{})'.format(lr_Adam),'C-SAGA Adam (lr:{})'.format(lr_CSAGA_Adam)])"
   ]
  },
  {
   "cell_type": "code",
   "execution_count": 25,
   "metadata": {
    "collapsed": true
   },
   "outputs": [],
   "source": [
    "def plot_suboptimality(losses, labels,val = \"Suboptimality\"):\n",
    "    plt.figure(figsize=(6,6))\n",
    "    for loss, label in zip(losses, labels):\n",
    "        plt.plot(np.asarray(loss)-optimal_loss, label = label)\n",
    "    plt.legend(loc='upper right')\n",
    "    plt.xlabel('iteration/{}'.format(res_step),fontsize = 25)\n",
    "    plt.yticks(fontsize=13)\n",
    "    plt.ylabel(val,fontsize = 25)\n",
    "    #plt.ylim(0.013,0.2)\n",
    "    plt.yscale('log')"
   ]
  },
  {
   "cell_type": "code",
   "execution_count": 26,
   "metadata": {},
   "outputs": [
    {
     "data": {
      "image/png": "[encoded data removed]",
      "text/plain": [
       "<matplotlib.figure.Figure at 0x1247a0f28>"
      ]
     },
     "metadata": {},
     "output_type": "display_data"
    }
   ],
   "source": [
    "plot_suboptimality([model_SGD_true_loss, model_CSAGA_true_loss,model_SVRG_true_loss,\n",
    "                    model_Adam_true_loss,model_CSAGA_Adam_true_loss],\n",
    "         ['SGD', 'C-SAGA', 'SVRG',\n",
    "         'Adam','C-SAGA Adam'])"
   ]
  },
  {
   "cell_type": "code",
   "execution_count": 27,
   "metadata": {},
   "outputs": [
    {
     "data": {
      "image/png": "[encoded data removed]",
      "text/plain": [
       "<matplotlib.figure.Figure at 0x111d577f0>"
      ]
     },
     "metadata": {},
     "output_type": "display_data"
    }
   ],
   "source": [
    "plot_suboptimality([model_SGD_loss, model_CSAGA_loss,model_SVRG_loss,\n",
    "                    model_Adam_loss,model_CSAGA_Adam_loss],\n",
    "         ['SGD', 'C-SAGA', 'SVRG',\n",
    "         'Adam','C-SAGA Adam'])"
   ]
  },
  {
   "cell_type": "code",
   "execution_count": 28,
   "metadata": {
    "collapsed": true
   },
   "outputs": [],
   "source": [
    "#plot variance without hyperparam info\n",
    "def plot_var(losses, labels,val = \"Variance\"):\n",
    "    plt.figure(figsize=(6,6))\n",
    "    for loss, label in zip(losses, labels):\n",
    "        plt.plot(loss, label = label)\n",
    "    plt.legend(loc='upper right')\n",
    "    plt.xlabel('iteration/{}'.format(res_step),fontsize = 25)\n",
    "    plt.yticks(fontsize=13)\n",
    "    plt.ylabel(val,fontsize = 25)\n",
    "    #plt.yscale('log')"
   ]
  },
  {
   "cell_type": "code",
   "execution_count": 29,
   "metadata": {},
   "outputs": [],
   "source": [
    "SGD_var_plot = SGD_avg_var[::10]\n",
    "CSAGA_var_plot = CSAGA_avg_var[::10]\n",
    "SVRG_var_plot = SVRG_avg_var[::10]\n",
    "Adam_var_plot = Adam_avg_var[::10]\n",
    "CSAGA_Adam_var_plot = CSAGA_Adam_avg_var[::10]"
   ]
  },
  {
   "cell_type": "code",
   "execution_count": 30,
   "metadata": {},
   "outputs": [
    {
     "data": {
      "image/png": "[encoded data removed]",
      "text/plain": [
       "<matplotlib.figure.Figure at 0x124b5ff98>"
      ]
     },
     "metadata": {},
     "output_type": "display_data"
    }
   ],
   "source": [
    "plot_var([SGD_var_plot,CSAGA_var_plot,SVRG_var_plot,\n",
    "          Adam_var_plot,CSAGA_Adam_var_plot],\n",
    "         ['SGD', 'C-SAGA', 'SVRG','Adam', 'C-SAGA Adam'])"
   ]
  },
  {
   "cell_type": "code",
   "execution_count": 31,
   "metadata": {
    "collapsed": true
   },
   "outputs": [],
   "source": [
    "#plot error without hyperparam info\n",
    "def plot_error(losses, labels,val = \"Error\"):\n",
    "    plt.figure(figsize=(6,6))\n",
    "    for losses, label in zip(losses, labels):\n",
    "        plt.plot(losses, label = label)\n",
    "    plt.legend(loc='upper right')\n",
    "    plt.xlabel('iteration/{}'.format(res_step),fontsize = 25)\n",
    "    plt.xticks(fontsize=13)\n",
    "    plt.yticks(fontsize=13)\n",
    "    plt.ylabel(val,fontsize = 25)\n",
    "    #plt.ylim(50, 300)"
   ]
  },
  {
   "cell_type": "code",
   "execution_count": 32,
   "metadata": {},
   "outputs": [
    {
     "data": {
      "image/png": "[encoded data removed]",
      "text/plain": [
       "<matplotlib.figure.Figure at 0x124e6deb8>"
      ]
     },
     "metadata": {},
     "output_type": "display_data"
    }
   ],
   "source": [
    "plot_error([model_SGD_test_e,model_CSAGA_test_e,model_SVRG_test_e,\n",
    "            model_Adam_test_e,model_CSAGA_Adam_test_e],\n",
    "         ['SGD', 'C-SAGA','SVRG','Adam','C-SAGA Adam'])"
   ]
  },
  {
   "cell_type": "code",
   "execution_count": null,
   "metadata": {
    "collapsed": true
   },
   "outputs": [],
   "source": []
  },
  {
   "cell_type": "code",
   "execution_count": null,
   "metadata": {
    "collapsed": true
   },
   "outputs": [],
   "source": []
  },
  {
   "cell_type": "code",
   "execution_count": null,
   "metadata": {
    "collapsed": true
   },
   "outputs": [],
   "source": []
  },
  {
   "cell_type": "code",
   "execution_count": null,
   "metadata": {
    "collapsed": true
   },
   "outputs": [],
   "source": []
  },
  {
   "cell_type": "code",
   "execution_count": null,
   "metadata": {
    "collapsed": true
   },
   "outputs": [],
   "source": []
  },
  {
   "cell_type": "code",
   "execution_count": null,
   "metadata": {
    "collapsed": true
   },
   "outputs": [],
   "source": []
  },
  {
   "cell_type": "code",
   "execution_count": null,
   "metadata": {
    "collapsed": true
   },
   "outputs": [],
   "source": []
  },
  {
   "cell_type": "code",
   "execution_count": null,
   "metadata": {
    "collapsed": true
   },
   "outputs": [],
   "source": []
  },
  {
   "cell_type": "code",
   "execution_count": null,
   "metadata": {
    "collapsed": true
   },
   "outputs": [],
   "source": []
  },
  {
   "cell_type": "code",
   "execution_count": null,
   "metadata": {
    "collapsed": true
   },
   "outputs": [],
   "source": []
  },
  {
   "cell_type": "code",
   "execution_count": null,
   "metadata": {
    "collapsed": true
   },
   "outputs": [],
   "source": []
  },
  {
   "cell_type": "code",
   "execution_count": null,
   "metadata": {
    "collapsed": true
   },
   "outputs": [],
   "source": []
  },
  {
   "cell_type": "code",
   "execution_count": null,
   "metadata": {
    "collapsed": true
   },
   "outputs": [],
   "source": []
  }
 ],
 "metadata": {
  "kernelspec": {
   "display_name": "Python 3",
   "language": "python",
   "name": "python3"
  },
  "language_info": {
   "codemirror_mode": {
    "name": "ipython",
    "version": 3
   },
   "file_extension": ".py",
   "mimetype": "text/x-python",
   "name": "python",
   "nbconvert_exporter": "python",
   "pygments_lexer": "ipython3",
   "version": "3.5.3"
  }
 },
 "nbformat": 4,
 "nbformat_minor": 2
}
