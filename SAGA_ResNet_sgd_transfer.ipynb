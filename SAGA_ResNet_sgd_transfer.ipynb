{
 "cells": [
  {
   "cell_type": "code",
   "execution_count": 1,
   "metadata": {
    "collapsed": false
   },
   "outputs": [],
   "source": [
    "import numpy as np\n",
    "import torch as torch\n",
    "import torch.nn as nn\n",
    "import torch.nn.functional as F\n",
    "import matplotlib.pyplot as plt\n",
    "import copy\n",
    "from sag import SAG\n",
    "from saga import SAGA\n",
    "from sag_adam import SAG_adam\n",
    "from saga_adam import SAGA_adam\n",
    "from saga_mb import SAGA_mb\n",
    "from torch.optim.optimizer import Optimizer, required\n",
    "import torch.optim as optim\n",
    "from torch.optim import lr_scheduler\n",
    "from helpers import *\n",
    "import time\n",
    "import math\n",
    "from resnet import ResNet18\n",
    "import torchvision\n",
    "from torchvision import datasets, models, transforms\n",
    "from torch.utils.data import DataLoader, sampler\n",
    "import os\n",
    "%matplotlib inline"
   ]
  },
  {
   "cell_type": "code",
   "execution_count": 2,
   "metadata": {
    "collapsed": true
   },
   "outputs": [],
   "source": [
    "device = torch.device(\"cuda:0\" if torch.cuda.is_available() else \"cpu\")\n",
    "#device = \"cpu\""
   ]
  },
  {
   "cell_type": "code",
   "execution_count": null,
   "metadata": {
    "collapsed": true
   },
   "outputs": [],
   "source": []
  },
  {
   "cell_type": "code",
   "execution_count": 3,
   "metadata": {
    "collapsed": false
   },
   "outputs": [],
   "source": [
    "N_CLUSTERS = 1\n",
    "MOMENTUM_SAGA = 0.1\n",
    "MOMENTUM_SGD = 0.9\n",
    "N_SAMPLES = 50000\n",
    "betas = (0.9,0.999)\n",
    "BATCH_SIZE = 1\n",
    "lr_schedule = False\n",
    "lr = 0.0001\n",
    "n_epochs = 1000\n",
    "opti = \"Adam\"\n",
    "freeze = False\n",
    "pretrained = False\n",
    "centered = \"centered\"\n",
    "OUT_DIM = 10"
   ]
  },
  {
   "cell_type": "code",
   "execution_count": 4,
   "metadata": {
    "collapsed": false
   },
   "outputs": [
    {
     "name": "stdout",
     "output_type": "stream",
     "text": [
      "Files already downloaded and verified\n",
      "Files already downloaded and verified\n",
      "Files already downloaded and verified\n"
     ]
    }
   ],
   "source": [
    "data_transforms = {\n",
    "    'train': transforms.Compose([\n",
    "        transforms.Resize(224),\n",
    "        transforms.ToTensor(),\n",
    "        transforms.Normalize([0.485, 0.456, 0.406], [0.229, 0.224, 0.225])\n",
    "    ]),\n",
    "    'val': transforms.Compose([\n",
    "        transforms.Resize(224),\n",
    "        transforms.ToTensor(),\n",
    "        transforms.Normalize([0.485, 0.456, 0.406], [0.229, 0.224, 0.225])\n",
    "    ]),\n",
    "}\n",
    "\n",
    "trainset = torchvision.datasets.CIFAR10(root='./data', train=True,\n",
    "                                        download=True, transform=data_transforms['train'])\n",
    "trainloader = torch.utils.data.DataLoader(trainset, batch_size=BATCH_SIZE,\n",
    "                                          shuffle=True, num_workers=0)\n",
    "\n",
    "trainset2 = torchvision.datasets.CIFAR10(root='./data', train=True,\n",
    "                                        download=True, transform=data_transforms['train'])\n",
    "trainloader2 = torch.utils.data.DataLoader(trainset2, batch_size=32,\n",
    "                                          shuffle=True, num_workers=0)\n",
    "\n",
    "testset = torchvision.datasets.CIFAR10(root='./data', train=False,\n",
    "                                       download=True, transform=data_transforms['val'])\n",
    "testloader = torch.utils.data.DataLoader(testset, batch_size=100,\n",
    "                                         shuffle=False, num_workers=0)"
   ]
  },
  {
   "cell_type": "code",
   "execution_count": 5,
   "metadata": {
    "collapsed": false
   },
   "outputs": [
    {
     "data": {
      "text/plain": [
       "(torch.Size([1, 3, 224, 224]), torch.Size([1]))"
      ]
     },
     "execution_count": 5,
     "metadata": {},
     "output_type": "execute_result"
    }
   ],
   "source": [
    "trainiter = iter(trainloader)\n",
    "features, labels = next(trainiter)\n",
    "features.shape, labels.shape"
   ]
  },
  {
   "cell_type": "code",
   "execution_count": 6,
   "metadata": {
    "collapsed": false
   },
   "outputs": [
    {
     "data": {
      "text/plain": [
       "(torch.Size([1, 3, 224, 224]), torch.Size([1]))"
      ]
     },
     "execution_count": 6,
     "metadata": {},
     "output_type": "execute_result"
    }
   ],
   "source": [
    "testiter = iter(testloader)\n",
    "features, labels = next(trainiter)\n",
    "features.shape, labels.shape"
   ]
  },
  {
   "cell_type": "code",
   "execution_count": 7,
   "metadata": {
    "collapsed": false
   },
   "outputs": [],
   "source": [
    "model_SGD_MB = models.resnet18(pretrained=pretrained)\n",
    "if (freeze):\n",
    "    for param in model_SGD_MB.parameters():\n",
    "        param.requires_grad = False\n",
    "n_features = model_SGD_MB.fc.in_features\n",
    "model_SGD_MB.fc = nn.Linear(n_features, OUT_DIM)\n",
    "model_SGD_MB = model_SGD_MB.to(device)\n",
    "\n",
    "\n",
    "model_SGD = models.resnet18(pretrained=pretrained)\n",
    "if (freeze):\n",
    "    for param in model_SGD.parameters():\n",
    "        param.requires_grad = False\n",
    "n_features = model_SGD.fc.in_features\n",
    "model_SGD.fc = nn.Linear(n_features, OUT_DIM)\n",
    "model_SGD = model_SGD.to(device)\n",
    "\n",
    "model_SAGA = models.resnet18(pretrained=pretrained)\n",
    "if (freeze):\n",
    "    for param in model_SAGA.parameters():\n",
    "        param.requires_grad = False\n",
    "n_features = model_SAGA.fc.in_features\n",
    "model_SAGA.fc = nn.Linear(n_features, OUT_DIM)\n",
    "model_SAGA = model_SAGA.to(device)\n",
    "\n",
    "model_SAGA_2 = models.resnet18(pretrained=pretrained)\n",
    "n_features = model_SAGA_2.fc.in_features\n",
    "model_SAGA_2.fc = nn.Linear(n_features, OUT_DIM)\n",
    "model_SAGA_2 = model_SAGA_2.to(device)"
   ]
  },
  {
   "cell_type": "code",
   "execution_count": 8,
   "metadata": {
    "collapsed": false
   },
   "outputs": [],
   "source": [
    "model_SGD_MB_losses = []\n",
    "model_SGD_MB_test_e = []\n",
    "model_SGD_losses = []\n",
    "model_SGD_test_e = []\n",
    "model_SAGA_losses = []\n",
    "model_SAGA_test_e = []\n",
    "model_SAGA_2_losses = []\n",
    "model_SAGA_2_test_e = []\n",
    "\n",
    "\n",
    "criterion = nn.CrossEntropyLoss()\n",
    "if (opti == \"Adam\"):\n",
    "    optimizer_SGD = torch.optim.Adam(model_SGD.parameters(), lr = lr, betas = betas)\n",
    "    optimizer_SAGA = SAG_adam(model_SAGA.parameters(),n_classes=OUT_DIM, lr = lr,\n",
    "                          class_proba = None,momentum=MOMENTUM_SAGA,compute_var = True,betas = betas)\n",
    "    optimizer_SAGA_1 = torch.optim.Adam(list(model_SAGA_2.parameters())[:-2], lr = lr,betas=betas)\n",
    "    optimizer_SAGA_2 = SAG_adam(list(model_SAGA_2.parameters())[-2:], n_classes=OUT_DIM, lr = lr,\n",
    "                          class_proba = None,momentum=MOMENTUM_SAGA,compute_var = True,betas = betas)\n",
    "else:\n",
    "    optimizer_SGD_MB = torch.optim.SGD(model_SGD_MB.parameters(), lr = lr,momentum=MOMENTUM_SGD)\n",
    "    optimizer_SGD = torch.optim.SGD(model_SGD.parameters(), lr = lr,momentum=MOMENTUM_SGD)\n",
    "#     if (lr_schedule):\n",
    "#         optimizer_SGD = SGD(model_SGD.parameters(), lr = lr,momentum=betas[0],lr_schedule = True)\n",
    "#         optimizer_SGD_MB = SGD(model_SGD_MB.parameters(), lr = lr,momentum=betas[0],lr_schedule = True)\n",
    "    optimizer_SAGA = SAG(model_SAGA.parameters(), n_classes=OUT_DIM, lr = lr, lr_schedule= lr_schedule,\n",
    "                          class_proba = None,momentum=MOMENTUM_SAGA,compute_var = True,beta1 = MOMENTUM_SGD)\n",
    "    optimizer_SAGA_1 = torch.optim.SGD(list(model_SAGA_2.parameters())[:-2], lr = lr,momentum=MOMENTUM_SGD)\n",
    "    optimizer_SAGA_2 = SAG(list(model_SAGA_2.parameters())[-2:], n_classes=OUT_DIM, lr = lr,\n",
    "                          class_proba = None,momentum=MOMENTUM_SAGA,compute_var = True,beta1 = MOMENTUM_SGD)"
   ]
  },
  {
   "cell_type": "code",
   "execution_count": 9,
   "metadata": {
    "collapsed": true
   },
   "outputs": [],
   "source": [
    "def compute_error(model):\n",
    "    correct = 0\n",
    "    total = 0\n",
    "    with torch.no_grad():\n",
    "        for data in testloader:\n",
    "            images, labels = data\n",
    "            outputs = model(images.to(device)).cpu()\n",
    "            _, predicted = torch.max(outputs.data, 1)\n",
    "            total += labels.size(0)\n",
    "            correct += (predicted == labels).sum().item()\n",
    "    return correct/total"
   ]
  },
  {
   "cell_type": "code",
   "execution_count": 10,
   "metadata": {
    "collapsed": true
   },
   "outputs": [],
   "source": [
    "# def compute_error(model,X,y):\n",
    "#     e = 0\n",
    "#     #Probably smarter way to compute the error; the value 50 was chosen because higher caused memory issues\n",
    "#     for i in range(int(X.shape[0]/50)):\n",
    "#         pred = model.forward(torch.Tensor(X_test[i*50:(i+1)*50]).to(device))\n",
    "#         pred = (torch.max(pred.data,1)[1]).cpu().numpy()\n",
    "#         err = (y[i*50:(i+1)*50] != pred)\n",
    "#         e += err.sum()\n",
    "#     return e/X.shape[0]"
   ]
  },
  {
   "cell_type": "code",
   "execution_count": 11,
   "metadata": {
    "collapsed": false
   },
   "outputs": [],
   "source": [
    "# tstart = time.process_time()\n",
    "# compute_error(model_SAGA_2,X_test,y_test)\n",
    "# print('SGD Elapsed time: {:.2f}s'.format(time.process_time() - tstart))"
   ]
  },
  {
   "cell_type": "code",
   "execution_count": 12,
   "metadata": {
    "collapsed": false
   },
   "outputs": [
    {
     "name": "stdout",
     "output_type": "stream",
     "text": [
      "SGD Elapsed time: 0.00s\n"
     ]
    }
   ],
   "source": [
    "#train SGD MB\n",
    "tstart = time.process_time()\n",
    "SGD_MB_avg_var = []\n",
    "SGD_MB_var = 0\n",
    "total_loss = 0\n",
    "\n",
    "i = 0\n",
    "    \n",
    "# for epoch in range(n_epochs):\n",
    "#     for inputs, labels in trainloader2:\n",
    "#         outputs = model_SGD_MB.forward(inputs.to(device))\n",
    "#         loss = criterion(outputs, labels.to(device))\n",
    "#         loss.backward()\n",
    "#         total_loss += loss.data.item()\n",
    "#         model_SGD_MB_losses.append(total_loss/(i+1))\n",
    "#         optimizer_SGD_MB.step()\n",
    "#         for param_group in list(model_SGD_MB.parameters()):\n",
    "#             SGD_MB_var += (param_group.grad.data**2).sum()\n",
    "#         SGD_MB_avg_var.append(SGD_MB_var.cpu().numpy()/(i+1))\n",
    "# #         if (epoch % 1000 == 0):\n",
    "# #             e = compute_error(model_SGD,X_test,y_test)\n",
    "# #             model_SGD_test_e.append(e)\n",
    "#         optimizer_SGD_MB.zero_grad()\n",
    "#         i+= 1\n",
    "#         if i == n_epochs:\n",
    "#             break\n",
    "#     if i == n_epochs:\n",
    "#         break\n",
    "print('SGD Elapsed time: {:.2f}s'.format(time.process_time() - tstart))"
   ]
  },
  {
   "cell_type": "code",
   "execution_count": 13,
   "metadata": {
    "collapsed": false
   },
   "outputs": [
    {
     "name": "stdout",
     "output_type": "stream",
     "text": [
      "SGD Elapsed time: 1143.23s\n"
     ]
    }
   ],
   "source": [
    "#train SGD\n",
    "tstart = time.process_time()\n",
    "SGD_avg_var = []\n",
    "SGD_var = 0\n",
    "total_loss = 0\n",
    "\n",
    "i = 0\n",
    "    \n",
    "for epoch in range(n_epochs):\n",
    "    for inputs, labels in trainloader:\n",
    "        outputs = model_SGD.forward(inputs.to(device))\n",
    "        loss = criterion(outputs, labels.to(device))\n",
    "        loss.backward()\n",
    "        total_loss += loss.data.item()\n",
    "        model_SGD_losses.append(total_loss/(i+1))\n",
    "        optimizer_SGD.step()\n",
    "        for param_group in list(model_SGD.parameters()):\n",
    "            SGD_var += (param_group.grad.data**2).sum()\n",
    "        SGD_avg_var.append(SGD_var.cpu().numpy()/(i+1))\n",
    "#         if (epoch % 1000 == 0):\n",
    "#             e = compute_error(model_SGD,X_test,y_test)\n",
    "#             model_SGD_test_e.append(e)\n",
    "        optimizer_SGD.zero_grad()\n",
    "        i+= 1\n",
    "        if i == n_epochs:\n",
    "            break\n",
    "    if i == n_epochs:\n",
    "        break\n",
    "print('SGD Elapsed time: {:.2f}s'.format(time.process_time() - tstart))"
   ]
  },
  {
   "cell_type": "code",
   "execution_count": 14,
   "metadata": {
    "collapsed": false
   },
   "outputs": [
    {
     "name": "stdout",
     "output_type": "stream",
     "text": [
      "SAGA Elapsed time: 2221.16s\n"
     ]
    }
   ],
   "source": [
    "#train SAGA\n",
    "tstart = time.process_time()\n",
    "SAGA_avg_var = []\n",
    "SAGA_var = 0\n",
    "total_loss = 0\n",
    "i = 0\n",
    "\n",
    "for epoch in range(n_epochs):\n",
    "    for inputs, labels in trainloader:\n",
    "        outputs = model_SAGA.forward(inputs.to(device))\n",
    "        loss = criterion(outputs, labels.to(device))\n",
    "        loss.backward()\n",
    "        total_loss += loss.data.item()\n",
    "        model_SAGA_losses.append(total_loss/(i+1))\n",
    "        closure = labels\n",
    "        _,var = optimizer_SAGA.step(closure)\n",
    "        SAGA_var += var\n",
    "        SAGA_avg_var.append(SAGA_var.cpu().numpy()/(i+1))\n",
    "#         if (epoch % 1000 == 0):\n",
    "#             e = compute_error(model_SAGA,X_test,y_test)\n",
    "#             model_SAGA_test_e.append(e)\n",
    "        optimizer_SAGA.zero_grad()\n",
    "        i+= 1\n",
    "        if i == n_epochs:\n",
    "            break\n",
    "    if i == n_epochs:\n",
    "        break\n",
    "print('SAGA Elapsed time: {:.2f}s'.format(time.process_time() - tstart))"
   ]
  },
  {
   "cell_type": "code",
   "execution_count": 15,
   "metadata": {
    "collapsed": false
   },
   "outputs": [
    {
     "name": "stdout",
     "output_type": "stream",
     "text": [
      "SAGA 2 optimizers Elapsed time: 1231.48s\n"
     ]
    }
   ],
   "source": [
    "#train SAGA with 2 optimizers\n",
    "tstart = time.process_time()\n",
    "SAGA_2_avg_var = []\n",
    "SAGA_2_var = 0\n",
    "total_loss = 0\n",
    "i = 0\n",
    "\n",
    "for epoch in range(n_epochs):\n",
    "    for inputs, labels in trainloader:\n",
    "        outputs = model_SAGA_2.forward(inputs.to(device))\n",
    "        loss = criterion(outputs, labels.to(device))\n",
    "        loss.backward()\n",
    "        total_loss += loss.data.item()\n",
    "        model_SAGA_2_losses.append(total_loss/(i+1))\n",
    "        closure = labels\n",
    "        \n",
    "        optimizer_SAGA_1.step()\n",
    "        for param_group in list(model_SAGA_2.parameters())[:-2]:\n",
    "            SAGA_2_var += (param_group.grad.data**2).sum()\n",
    "        \n",
    "        _, var_2 = optimizer_SAGA_2.step(closure)\n",
    "        SAGA_2_var += var_2\n",
    "        SAGA_2_avg_var.append(SAGA_2_var.cpu().numpy()/(i+1))\n",
    "#         if (epoch % 1000 == 0):\n",
    "#             e = compute_error(model_SAGA_2,X_test,y_test)\n",
    "#             model_SAGA_2_test_e.append(e)\n",
    "        optimizer_SAGA_1.zero_grad()\n",
    "        optimizer_SAGA_2.zero_grad()\n",
    "        i+= 1\n",
    "        if i == n_epochs:\n",
    "            break\n",
    "    if i == n_epochs:\n",
    "        break\n",
    "\n",
    "print('SAGA 2 optimizers Elapsed time: {:.2f}s'.format(time.process_time() - tstart))"
   ]
  },
  {
   "cell_type": "code",
   "execution_count": 16,
   "metadata": {
    "collapsed": false
   },
   "outputs": [],
   "source": [
    "def plot_val(losses, labels,val = \"loss\"):\n",
    "    plt.figure(figsize=(15,5))\n",
    "    for losses, label in zip(losses, labels):\n",
    "        plt.plot(losses, label = label)\n",
    "    plt.legend(loc='upper right')\n",
    "    plt.title('ResNet cifar10 {} (freeze = {}, pretrained = {}, {}) (lr: {}, n_samples = {}, betas: {})'.format(centered,\n",
    "                                                                                            freeze, pretrained,\n",
    "                                                                                          opti,lr,N_SAMPLES,betas))\n",
    "    plt.xlabel('iteration')\n",
    "    plt.ylabel(val)"
   ]
  },
  {
   "cell_type": "code",
   "execution_count": 17,
   "metadata": {
    "collapsed": false
   },
   "outputs": [
    {
     "data": {
      "image/png": "[encoded data removed]",
      "text/plain": [
       "<matplotlib.figure.Figure at 0x1e8050778d0>"
      ]
     },
     "metadata": {},
     "output_type": "display_data"
    }
   ],
   "source": [
    "plot_val([model_SGD_losses,model_SAGA_losses,model_SAGA_2_losses],\n",
    "         ['SGD','SAG (gradient momentum ({}))'.format(MOMENTUM_SAGA),\n",
    "          'SAG 2 optimizers'])"
   ]
  },
  {
   "cell_type": "code",
   "execution_count": 18,
   "metadata": {
    "collapsed": true
   },
   "outputs": [],
   "source": [
    "# def plot_val(losses, labels,val = \"loss\"):\n",
    "#     plt.figure(figsize=(15,5))\n",
    "#     for losses, label in zip(losses, labels):\n",
    "#         plt.plot(losses, label = label)\n",
    "#     plt.legend(loc='upper right')\n",
    "#     plt.title('ResNet cifar10 {} (class,{}) (lr: {}, n_samples = {}, betas: {})'.format(centered,\n",
    "#                                                                                           opti,lr,N_SAMPLES,betas))\n",
    "#     plt.xlabel('iteration')\n",
    "#     #plt.ylim(0,100)\n",
    "#     plt.ylabel(val)"
   ]
  },
  {
   "cell_type": "code",
   "execution_count": 19,
   "metadata": {
    "collapsed": false
   },
   "outputs": [
    {
     "data": {
      "image/png": "[encoded data removed]",
      "text/plain": [
       "<matplotlib.figure.Figure at 0x1e8395e00f0>"
      ]
     },
     "metadata": {},
     "output_type": "display_data"
    }
   ],
   "source": [
    "plot_val([SGD_avg_var,SAGA_avg_var,SAGA_2_avg_var],\n",
    "         ['SGD var','SAGA var (gradient momentum ({}))'.format(MOMENTUM_SAGA),'SAGA 2 optimizers var'],\"variance\")"
   ]
  },
  {
   "cell_type": "code",
   "execution_count": 20,
   "metadata": {
    "collapsed": true
   },
   "outputs": [],
   "source": [
    "# def plot_err(losses, labels,val = \"Error\"):\n",
    "#     plt.figure(figsize=(6,6))\n",
    "#     for losses, label in zip(losses, labels):\n",
    "#         plt.plot(losses, label = label)\n",
    "#     plt.legend(loc='upper right')\n",
    "#     plt.xlabel('Iteration (k)',fontsize = 25)\n",
    "#     plt.xticks(fontsize=13)\n",
    "#     plt.yticks(fontsize=13)\n",
    "#     plt.ylabel(val,fontsize = 25)\n",
    "#     #plt.ylim(50, 300)"
   ]
  },
  {
   "cell_type": "code",
   "execution_count": 21,
   "metadata": {
    "collapsed": false
   },
   "outputs": [],
   "source": [
    "# plot_err([model_SGD_test_e,model_SAGA_test_e,model_SAGA_2_test_e],\n",
    "#          ['SGD','SAGApc(1)','SGD + SAGApc(1)'])"
   ]
  },
  {
   "cell_type": "code",
   "execution_count": 22,
   "metadata": {
    "collapsed": false
   },
   "outputs": [],
   "source": [
    "# from torchsummary import summary\n",
    "# summary(model_SAGA, input_size=(3,32,32))"
   ]
  },
  {
   "cell_type": "code",
   "execution_count": null,
   "metadata": {
    "collapsed": true
   },
   "outputs": [],
   "source": []
  },
  {
   "cell_type": "code",
   "execution_count": null,
   "metadata": {
    "collapsed": true
   },
   "outputs": [],
   "source": []
  },
  {
   "cell_type": "code",
   "execution_count": null,
   "metadata": {
    "collapsed": true
   },
   "outputs": [],
   "source": []
  },
  {
   "cell_type": "code",
   "execution_count": null,
   "metadata": {
    "collapsed": true
   },
   "outputs": [],
   "source": []
  },
  {
   "cell_type": "code",
   "execution_count": null,
   "metadata": {
    "collapsed": true
   },
   "outputs": [],
   "source": []
  },
  {
   "cell_type": "code",
   "execution_count": null,
   "metadata": {
    "collapsed": true
   },
   "outputs": [],
   "source": []
  }
 ],
 "metadata": {
  "kernelspec": {
   "display_name": "Python 3",
   "language": "python",
   "name": "python3"
  },
  "language_info": {
   "codemirror_mode": {
    "name": "ipython",
    "version": 3
   },
   "file_extension": ".py",
   "mimetype": "text/x-python",
   "name": "python",
   "nbconvert_exporter": "python",
   "pygments_lexer": "ipython3",
   "version": "3.5.2"
  }
 },
 "nbformat": 4,
 "nbformat_minor": 2
}
